{
 "cells": [
  {
   "cell_type": "raw",
   "id": "e5b77adf",
   "metadata": {},
   "source": [
    "Q1.What are the two values of the Boolean data type? How do you write them?\n",
    "\n",
    "Ans:-\n",
    "There are two values True(1) and False(0) for Boolean data type. As Python is case sensitive language, so we have to write T and F in capital to make it work."
   ]
  },
  {
   "cell_type": "code",
   "execution_count": 1,
   "id": "301476c9",
   "metadata": {
    "scrolled": true
   },
   "outputs": [
    {
     "name": "stdout",
     "output_type": "stream",
     "text": [
      "Value of b1 is True and it's type is <class 'bool'>\n",
      "Value of b2 is False and it's type is <class 'bool'>\n"
     ]
    }
   ],
   "source": [
    "b1 = True\n",
    "b2 = False\n",
    "print(\"Value of b1 is {} and it's type is {}\".format(b1, type(b1)))\n",
    "print(\"Value of b2 is {} and it's type is {}\".format(b2, type(b2)))"
   ]
  },
  {
   "cell_type": "raw",
   "id": "d92930ee",
   "metadata": {},
   "source": [
    "Q2. What are the three different types of Boolean operators?\n",
    "\n",
    "Ans:-\n",
    "Three different Boolean operators are as follows:\n",
    "1) and : It is used as logical AND gate where only True AND True is True, remaining all combinations are False.\n",
    "2) or : It is used as logical OR gate where only False OR False is False, remaining all combinations are True.\n",
    "3) not : It is used as logical NOT gate where NOT of True is False and NOT of False is True."
   ]
  },
  {
   "cell_type": "code",
   "execution_count": 3,
   "id": "7ceded0e",
   "metadata": {},
   "outputs": [
    {
     "name": "stdout",
     "output_type": "stream",
     "text": [
      "False\n",
      "True\n",
      "True\n"
     ]
    }
   ],
   "source": [
    "a = 10\n",
    "b = 20\n",
    "print((a < b) and (b < a))\n",
    "print((a < b) or (b < a))\n",
    "print(not(b < a))"
   ]
  },
  {
   "cell_type": "raw",
   "id": "5de09733",
   "metadata": {},
   "source": [
    "Q3. Make a list of each Boolean operator's truth tables (i.e. every possible combination of Boolean values for the operator and what it evaluate ).\n",
    "\n",
    "Ans:-\n",
    "1) Truth table for 'and' operator\n",
    "\n",
    "False  and   False   -->  False\n",
    "False  and   True    -->  False\n",
    "True   and   False   -->  False\n",
    "True   and   True    -->  True\n",
    "\n",
    "2) Truth table for 'or' operator\n",
    "\n",
    "False  and   False   -->  False\n",
    "False  and   True    -->  True\n",
    "True   and   False   -->  True\n",
    "True   and   True    -->  True\n",
    "\n",
    "3) Truth table for 'not' operator\n",
    "\n",
    "not(True)   -->  False\n",
    "not(False)  -->  True"
   ]
  },
  {
   "cell_type": "raw",
   "id": "db41d5b5",
   "metadata": {},
   "source": [
    "Q4. What are the values of the following expressions?\n",
    "\n",
    "Ans:-\n",
    "(5 > 4) and (3 == 5)                  -->  False\n",
    "not (5 > 4)                           -->  False\n",
    "(5 > 4) or (3 == 5)                   -->  True\n",
    "not ((5 > 4) or (3 == 5))             -->  False\n",
    "(True and True) and (True == False)   -->  False\n",
    "(not False) or (not True)             -->  True\n"
   ]
  },
  {
   "cell_type": "code",
   "execution_count": 4,
   "id": "414e2121",
   "metadata": {},
   "outputs": [
    {
     "name": "stdout",
     "output_type": "stream",
     "text": [
      "False\n",
      "False\n",
      "True\n",
      "False\n",
      "False\n",
      "True\n"
     ]
    }
   ],
   "source": [
    "print((5 > 4) and (3 == 5))\n",
    "print(not (5 > 4))\n",
    "print((5 > 4) or (3 == 5))\n",
    "print(not ((5 > 4) or (3 == 5)))\n",
    "print((True and True) and (True == False))\n",
    "print((not False) or (not True))"
   ]
  },
  {
   "cell_type": "raw",
   "id": "06e7780f",
   "metadata": {},
   "source": [
    "Q5. What are the six comparison operators?\n",
    "\n",
    "Ans:-\n",
    "Six comparison operators are as follows:\n",
    "1) ==  (Equal to)\n",
    "2) !=  (Not equal to)\n",
    "3) >   (Greater than)\n",
    "4) <   (Less than)\n",
    "5) >=  (Greater than equal to)\n",
    "6) <=  (Less than equal to)\n",
    "\n",
    "They give output in term of True or False."
   ]
  },
  {
   "cell_type": "code",
   "execution_count": 5,
   "id": "f4f09ba2",
   "metadata": {},
   "outputs": [
    {
     "name": "stdout",
     "output_type": "stream",
     "text": [
      "False\n",
      "True\n",
      "False\n",
      "True\n",
      "False\n",
      "True\n"
     ]
    }
   ],
   "source": [
    "a = 10\n",
    "b = 25\n",
    "print(a == b)\n",
    "print(a != b)\n",
    "print(a > b)\n",
    "print(a < b)\n",
    "print(a >= b)\n",
    "print(a <= b)"
   ]
  },
  {
   "cell_type": "raw",
   "id": "44dd76f0",
   "metadata": {},
   "source": [
    "Q6. How do you tell the difference between the equal to and assignment operators?Describe a condition and when you would use one.\n",
    "\n",
    "Ans:-\n",
    "1) Equal to (==) is a comparison operator i.e it is use to compare two values whether they are equal or not.\n",
    "2) Assignment operator (=), as per name it is use to assign certain value or data to a variable."
   ]
  },
  {
   "cell_type": "code",
   "execution_count": 46,
   "id": "accf1721",
   "metadata": {},
   "outputs": [
    {
     "name": "stdout",
     "output_type": "stream",
     "text": [
      "10\n",
      "True\n"
     ]
    }
   ],
   "source": [
    "a = 10          # Assignment operator used to assign value or data 10 to variable 'a'.\n",
    "print(a)\n",
    "print(a == 10)  # Equal to is checking whether value of variable 'a' is 10 or not."
   ]
  },
  {
   "cell_type": "raw",
   "id": "cdac8f8a",
   "metadata": {},
   "source": [
    "Q7. Identify the three blocks in this code:\n",
    "spam = 0\n",
    "if spam == 10:\n",
    "print('eggs')\n",
    "if spam > 5:\n",
    "print('bacon')\n",
    "else:\n",
    "print('ham')\n",
    "print('spam')\n",
    "print('spam')\n",
    "\n",
    "Ans:- \n",
    "spam = 0\n",
    "if spam == 10:        --> if Block(1), if condation is True 'print('eggs')' statement will execute.\n",
    "    print('eggs') \n",
    "if spam > 5:          --> if Block(2), if condation is True 'print('bacon')' statement will execute.\n",
    "    print('bacon')\n",
    "else:                 --> else Block(3), if condation in Block(2) is False 'print('ham')' statement will execute.\n",
    "    print('ham')\n",
    "print('spam')\n",
    "print('spam')\n",
    "\n"
   ]
  },
  {
   "cell_type": "code",
   "execution_count": 12,
   "id": "1516e087",
   "metadata": {},
   "outputs": [
    {
     "name": "stdout",
     "output_type": "stream",
     "text": [
      "ham\n",
      "spam\n",
      "spam\n"
     ]
    }
   ],
   "source": [
    "spam = 0\n",
    "if spam == 10:        # if Block 1\n",
    "    print('eggs') \n",
    "if spam > 5:          # if Block 2\n",
    "    print('bacon')\n",
    "else:                 # else Block 3\n",
    "    print('ham')\n",
    "print('spam')\n",
    "print('spam')"
   ]
  },
  {
   "cell_type": "raw",
   "id": "23a8da93",
   "metadata": {},
   "source": [
    "Q8. Write code that prints Hello if 1 is stored in spam, prints Howdy if 2 is stored in spam, and prints Greetings! if anything else is stored in spam."
   ]
  },
  {
   "cell_type": "code",
   "execution_count": 13,
   "id": "cca56ec2",
   "metadata": {},
   "outputs": [
    {
     "name": "stdout",
     "output_type": "stream",
     "text": [
      "Howdy\n"
     ]
    }
   ],
   "source": [
    "spam = 2\n",
    "if spam == 1:\n",
    "    print(\"Hello\")\n",
    "elif spam == 2:\n",
    "    print(\"Howdy\")\n",
    "else:\n",
    "    print(\"Greetings!\")"
   ]
  },
  {
   "cell_type": "raw",
   "id": "3da386e2",
   "metadata": {},
   "source": [
    "Q9.If your programme is stuck in an endless loop, what keys you’ll press?\n",
    "\n",
    "Ans:-\n",
    "In Jupyter Notebook if program is stuck in an endless loop we have to interupt the Kernel, on Pycharm we can press 'Ctrl + F2' keys to stop the endless loop and on other platform we can press 'Ctrl + c' to stop the loop."
   ]
  },
  {
   "cell_type": "raw",
   "id": "aeb6b33d",
   "metadata": {},
   "source": [
    "Q10. How can you tell the difference between break and continue?\n",
    "\n",
    "Ans:-\n",
    "1) break: If condition satisfies as per name suggests it breaks the normal flow of the loop and takes us out of the loop. Inside infinite loop conditions 'break' can be used as best exiting strategy. \n",
    "\n",
    "2) continue: If condition satisfies it breaks the normal flow of the loop and takes us to the start of the loop. It plays opposite function of the 'break'."
   ]
  },
  {
   "cell_type": "code",
   "execution_count": 23,
   "id": "f88c8be4",
   "metadata": {},
   "outputs": [
    {
     "name": "stdout",
     "output_type": "stream",
     "text": [
      "10\n",
      "11\n",
      "12\n",
      "13\n",
      "14\n",
      "15\n",
      "16\n",
      "17\n",
      "18\n",
      "19\n",
      "20\n"
     ]
    }
   ],
   "source": [
    "i = 10\n",
    "while True:\n",
    "    print(i)\n",
    "    i += 1\n",
    "    if i > 20:\n",
    "        break     # if I hadn't written break statement than this loop will become infinite loop.\n",
    "    "
   ]
  },
  {
   "cell_type": "code",
   "execution_count": 49,
   "id": "5b5eb3e7",
   "metadata": {},
   "outputs": [
    {
     "name": "stdout",
     "output_type": "stream",
     "text": [
      "Skipping even numbers due to continue statement.\n",
      "\n",
      "1\n",
      "Skipping even numbers due to continue statement.\n",
      "\n",
      "Skipping even numbers due to continue statement.\n",
      "\n",
      "3\n",
      "Skipping even numbers due to continue statement.\n",
      "\n",
      "Skipping even numbers due to continue statement.\n",
      "\n",
      "5\n",
      "Skipping even numbers due to continue statement.\n",
      "\n",
      "Skipping even numbers due to continue statement.\n",
      "\n",
      "7\n",
      "Skipping even numbers due to continue statement.\n",
      "\n",
      "Skipping even numbers due to continue statement.\n",
      "\n",
      "9\n",
      "Skipping even numbers due to continue statement.\n",
      "\n"
     ]
    }
   ],
   "source": [
    "for i in range(1, 11):\n",
    "    print(\"Skipping even numbers due to continue statement.\\n\")\n",
    "    if i % 2 == 0:\n",
    "        continue   \n",
    "# whenever condition satisfy it skips following statements to be executed and return the flow of program to start of the loop.\n",
    "    print(i)"
   ]
  },
  {
   "cell_type": "raw",
   "id": "477074b6",
   "metadata": {},
   "source": [
    "Q11. In a for loop, what is the difference between range(10), range(0, 10), and range(0, 10, 1)?\n",
    "\n",
    "Ans:-\n",
    "Output of the for loop will be same for all the three range conditions.\n",
    "1) range(10): It will give range of numbers from 0 to 9 excluding 10. By default it will start from 0.\n",
    "2) range(0, 10): Here we are explicitly stating that range will start from 0 to 9 excluding 10.\n",
    "3) range(0, 10, 1): Here we are explicitly stating that range will start from 0 to 9 excluding 10 and will be incremented each time by 1.\n",
    "output of all three range function  --> [0,1,2,3,4,5,6,7,8,9]"
   ]
  },
  {
   "cell_type": "code",
   "execution_count": 38,
   "id": "184aae62",
   "metadata": {},
   "outputs": [
    {
     "name": "stdout",
     "output_type": "stream",
     "text": [
      "[0, 1, 2, 3, 4, 5, 6, 7, 8, 9]\n",
      "[0, 1, 2, 3, 4, 5, 6, 7, 8, 9]\n",
      "[0, 1, 2, 3, 4, 5, 6, 7, 8, 9]\n"
     ]
    }
   ],
   "source": [
    "print(list(range(10)))\n",
    "print(list(range(0, 10)))\n",
    "print(list(range(0, 10, 1)))"
   ]
  },
  {
   "cell_type": "raw",
   "id": "43fcaafc",
   "metadata": {},
   "source": [
    "Q12. Write a short program that prints the numbers 1 to 10 using a for loop. Then write an equivalent program that prints the numbers 1 to 10 using a while loop."
   ]
  },
  {
   "cell_type": "code",
   "execution_count": 45,
   "id": "6aa1b309",
   "metadata": {},
   "outputs": [
    {
     "name": "stdout",
     "output_type": "stream",
     "text": [
      "For loop\n",
      "1 2 3 4 5 6 7 8 9 10 \n",
      "\n",
      "While loop\n",
      "1 2 3 4 5 6 7 8 9 10 "
     ]
    }
   ],
   "source": [
    "print(\"For loop\")\n",
    "for i in range(1,11):\n",
    "    print(i,end=\" \")\n",
    "    \n",
    "print()\n",
    "print(\"\\nWhile loop\")\n",
    "\n",
    "i = 1\n",
    "while i <= 10:\n",
    "    print(i, end=\" \")\n",
    "    i += 1\n",
    "    "
   ]
  },
  {
   "cell_type": "raw",
   "id": "c6043b53",
   "metadata": {},
   "source": [
    "Q13. If you had a function named bacon() inside a module named spam, how would you call it after importing spam?\n",
    "\n",
    "Ans:-\n",
    "We can call a function inside the module after importing that module by statement 'module_name.function_name()'.\n",
    "\n",
    "import spam\n",
    "spam.bacon()"
   ]
  }
 ],
 "metadata": {
  "kernelspec": {
   "display_name": "Python 3 (ipykernel)",
   "language": "python",
   "name": "python3"
  },
  "language_info": {
   "codemirror_mode": {
    "name": "ipython",
    "version": 3
   },
   "file_extension": ".py",
   "mimetype": "text/x-python",
   "name": "python",
   "nbconvert_exporter": "python",
   "pygments_lexer": "ipython3",
   "version": "3.9.12"
  }
 },
 "nbformat": 4,
 "nbformat_minor": 5
}
