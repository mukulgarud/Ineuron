{
 "cells": [
  {
   "cell_type": "raw",
   "id": "d541c59f",
   "metadata": {},
   "source": [
    "Q1. What does an empty dictionary's code look like?\n",
    "\n",
    "Ans:-\n",
    "An empty dictionary is often represented by two empty curly brackets {}, d = {} or d = dict()"
   ]
  },
  {
   "cell_type": "raw",
   "id": "775a2870",
   "metadata": {},
   "source": [
    "Q2. What is the value of a dictionary value with the key 'foo' and the value 42?\n",
    "\n",
    "Ans:-\n",
    "{'foo': 42} "
   ]
  },
  {
   "cell_type": "raw",
   "id": "15147c81",
   "metadata": {},
   "source": [
    "Q3. What is the most significant distinction between a dictionary and a list?\n",
    "\n",
    "Ans:- \n",
    "In dictionary we store data in terms of (key, value) pair whereas in list we store data associated to index. Dictionary is unordered collection of data and represented within {} whereas List is ordered collection of data represented within []."
   ]
  },
  {
   "cell_type": "raw",
   "id": "dc66a6d4",
   "metadata": {},
   "source": [
    "Q4. What happens if you try to access spam['foo'] if spam is {'bar': 100}?\n",
    "\n",
    "Ans:-\n",
    "we will get keyerror, KeyError: 'foo'"
   ]
  },
  {
   "cell_type": "code",
   "execution_count": 2,
   "id": "a521c52e",
   "metadata": {},
   "outputs": [
    {
     "ename": "KeyError",
     "evalue": "'foo'",
     "output_type": "error",
     "traceback": [
      "\u001b[1;31m---------------------------------------------------------------------------\u001b[0m",
      "\u001b[1;31mKeyError\u001b[0m                                  Traceback (most recent call last)",
      "Input \u001b[1;32mIn [2]\u001b[0m, in \u001b[0;36m<cell line: 2>\u001b[1;34m()\u001b[0m\n\u001b[0;32m      1\u001b[0m spam \u001b[38;5;241m=\u001b[39m {\u001b[38;5;124m'\u001b[39m\u001b[38;5;124mbar\u001b[39m\u001b[38;5;124m'\u001b[39m: \u001b[38;5;241m100\u001b[39m}\n\u001b[1;32m----> 2\u001b[0m \u001b[43mspam\u001b[49m\u001b[43m[\u001b[49m\u001b[38;5;124;43m'\u001b[39;49m\u001b[38;5;124;43mfoo\u001b[39;49m\u001b[38;5;124;43m'\u001b[39;49m\u001b[43m]\u001b[49m\n",
      "\u001b[1;31mKeyError\u001b[0m: 'foo'"
     ]
    }
   ],
   "source": [
    "spam = {'bar': 100}\n",
    "spam['foo']"
   ]
  },
  {
   "cell_type": "raw",
   "id": "6364ac88",
   "metadata": {},
   "source": [
    "Q5. If a dictionary is stored in spam, what is the difference between the expressions 'cat' in spam and 'cat' in spam.keys()?\n",
    "\n",
    "Ans:-\n",
    "There is no difference in both expressions, because both expressions are trying to find if there is key 'cat' present inside dictionary spam."
   ]
  },
  {
   "cell_type": "raw",
   "id": "ced20ed3",
   "metadata": {},
   "source": [
    "Q6. If a dictionary is stored in spam, what is the difference between the expressions 'cat' in spam and 'cat' in spam.values()?\n",
    "\n",
    "Ans:-\n",
    "First expression 'cat' in spam checks whether if there is a 'cat' key present in the dictionary spam, while second expression 'cat' in spam.values() checks whether if there is a value 'cat' for one of the keys in spam."
   ]
  },
  {
   "cell_type": "raw",
   "id": "b2ab0653",
   "metadata": {},
   "source": [
    "Q7. What is a shortcut for the following code?\n",
    "if 'color' not in spam:\n",
    "    spam['color'] = 'black'\n",
    "\n",
    "Ans:- \n",
    "spam.setdefault('color', 'black'), if value is already present then it returns original value but if not present then it returns default value 'black'."
   ]
  },
  {
   "cell_type": "raw",
   "id": "db350c1f",
   "metadata": {},
   "source": [
    "Q8. How do you \"pretty print\" dictionary values using which module and function?\n",
    "\n",
    "Ans:-\n",
    "by using pprint() function of pprint module, but pprint() function doesnot prettify nested dictionaries."
   ]
  },
  {
   "cell_type": "code",
   "execution_count": 13,
   "id": "b3928ee7",
   "metadata": {},
   "outputs": [
    {
     "name": "stdout",
     "output_type": "stream",
     "text": [
      "Printing using print() function\n",
      " [{'Name': 'Ram', 'Age': '24', 'Location': {'Country': 'India', 'City': 'Mumabi'}}, {'Name': 'sid', 'Age': '25', 'Location': {'Country': 'India', 'City': 'Mumbai'}}, {'Name': 'mukul', 'Age': '24', 'Location': {'Country': 'India', 'City': 'Bengaluru'}}]\n",
      "-----------------------------------------------------------------------------------------------------------------------------\n",
      "Printing using pprint() funciton\n",
      "[{'Age': '24',\n",
      "  'Location': {'City': 'Mumabi', 'Country': 'India'},\n",
      "  'Name': 'Ram'},\n",
      " {'Age': '25',\n",
      "  'Location': {'City': 'Mumbai', 'Country': 'India'},\n",
      "  'Name': 'sid'},\n",
      " {'Age': '24',\n",
      "  'Location': {'City': 'Bengaluru', 'Country': 'India'},\n",
      "  'Name': 'mukul'}]\n"
     ]
    }
   ],
   "source": [
    "import pprint\n",
    "\n",
    "Dict = [\n",
    "  {'Name': 'Ram', 'Age': '24', 'Location': {'Country':'India', 'City': 'Mumabi'}},\n",
    "  {'Name': 'sid', 'Age': '25', 'Location': {'Country':'India', 'City': 'Mumbai'}},\n",
    "  {'Name': 'mukul', 'Age': '24', 'Location': {'Country':'India', 'City': 'Bengaluru'}},\n",
    "]\n",
    "print('Printing using print() function\\n',Dict)\n",
    "print('-' * 125)\n",
    "print('Printing using pprint() funciton')\n",
    "pprint.pprint(Dict)"
   ]
  }
 ],
 "metadata": {
  "kernelspec": {
   "display_name": "Python 3 (ipykernel)",
   "language": "python",
   "name": "python3"
  },
  "language_info": {
   "codemirror_mode": {
    "name": "ipython",
    "version": 3
   },
   "file_extension": ".py",
   "mimetype": "text/x-python",
   "name": "python",
   "nbconvert_exporter": "python",
   "pygments_lexer": "ipython3",
   "version": "3.9.12"
  }
 },
 "nbformat": 4,
 "nbformat_minor": 5
}
