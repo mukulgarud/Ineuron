{
 "cells": [
  {
   "cell_type": "raw",
   "id": "135afe7e",
   "metadata": {},
   "source": [
    "Q1. Why are functions advantageous to have in your programs?\n",
    "\n",
    "Ans:-\n",
    "Advantages of function usage in program are as follows:\n",
    "1) Code Reusability, when we want use a same block of code multiple times then we write that code inside function to use it again and again.\n",
    "2) Easy to update and read, whenever we have to update the code we have to only make changes inside function block once, not every time we use it. \n",
    "3) Reduces duplicate code, as we have to use same block of code again and again duplication of code happens inside program so insted of that we use function to write code once and call whenever we needed. \n"
   ]
  },
  {
   "cell_type": "markdown",
   "id": "be5c845d",
   "metadata": {},
   "source": [
    "Q2. When does the code in a function run: when it's specified or when it's called?\n",
    "\n",
    "Ans:-\n",
    "The code inside function only executes whenever there is a function call, not when it is specified."
   ]
  },
  {
   "cell_type": "markdown",
   "id": "f7a718ac",
   "metadata": {},
   "source": [
    "Q3. What statement creates a function?\n",
    "\n",
    "Ans:-\n",
    "The 'def' statement creates a function.\n",
    "\n",
    "def function_name(parameters):\n",
    "    function body or block of code\n",
    "    return statement\n"
   ]
  },
  {
   "cell_type": "raw",
   "id": "360df87e",
   "metadata": {},
   "source": [
    "Q4. What is the difference between a function and a function call?\n",
    "\n",
    "Ans:-\n",
    "A function is where we write block of code so that it can be used again and again, where as a fuction call is used to execute that function anywhere inside program. Without function call we can't execute functions."
   ]
  },
  {
   "cell_type": "raw",
   "id": "051db577",
   "metadata": {},
   "source": [
    "Q5. How many global scopes are there in a Python program? How many local scopes?\n",
    "\n",
    "Ans:-\n",
    "There is 1 global scope inside a program and local scope is created for every function whenever they are called."
   ]
  },
  {
   "cell_type": "raw",
   "id": "f659f69c",
   "metadata": {},
   "source": [
    "Q6. What happens to variables in a local scope when the function call returns?\n",
    "\n",
    "Ans:-\n",
    "When a function call returns or executed successfully, the local scope is terminated, and all the variables in it are forgotten or undefined."
   ]
  },
  {
   "cell_type": "raw",
   "id": "dedabe24",
   "metadata": {},
   "source": [
    "Q7. What is the concept of a return value? Is it possible to have a return value in an expression?\n",
    "\n",
    "Ans:-\n",
    "A return value is the value when a function completes its evaluation and it returns that value to a place where that function call was made. Like any other value, a return value can be used as part of an expression."
   ]
  },
  {
   "cell_type": "markdown",
   "id": "9ee2b2fb",
   "metadata": {},
   "source": [
    "Q8. If a function does not have a return statement, what is the return value of a call to that function?\n",
    "\n",
    "Ans:-\n",
    "If a function does not have a return statement, than the return value of a call to that function is 'None'."
   ]
  },
  {
   "cell_type": "raw",
   "id": "4a8972f6",
   "metadata": {},
   "source": [
    "Q9. How do you make a function variable refer to the global variable?\n",
    "\n",
    "Ans:-\n",
    "If we want to use function variable refer to the global variable then we have to use 'global' keyword before variable to declare which variables are global."
   ]
  },
  {
   "cell_type": "raw",
   "id": "f3775018",
   "metadata": {},
   "source": [
    "Q10. What is the data type of None?\n",
    "\n",
    "Ans:-\n",
    "The data type of None is 'NoneType'."
   ]
  },
  {
   "cell_type": "code",
   "execution_count": 1,
   "id": "06dfc110",
   "metadata": {},
   "outputs": [
    {
     "data": {
      "text/plain": [
       "NoneType"
      ]
     },
     "execution_count": 1,
     "metadata": {},
     "output_type": "execute_result"
    }
   ],
   "source": [
    "type(None)"
   ]
  },
  {
   "cell_type": "raw",
   "id": "1e20ce89",
   "metadata": {},
   "source": [
    "Q11. What does the sentence import areallyourpetsnamederic do?\n",
    "\n",
    "Ans:-\n",
    "The sentence import areallyourpetsnamederic will import module named areallyourpetsnamederic in our program."
   ]
  },
  {
   "cell_type": "raw",
   "id": "397d3ab4",
   "metadata": {},
   "source": [
    "Q12. If you had a bacon() feature in a spam module, what would you call it after importing spam?\n",
    "\n",
    "Ans:-\n",
    "The bacon() function can be called inside our program using spam.bacon() statement."
   ]
  },
  {
   "cell_type": "raw",
   "id": "2301fd76",
   "metadata": {},
   "source": [
    "Q13. What can you do to save a programme from crashing if it encounters an error?\n",
    "\n",
    "Ans:-\n",
    "We can use Exception handling concept to save a programme from crashing if it encounters an error. We can place piece of code that might generate error inside a 'try' block and using 'except' block we can handle this generated error.\n",
    "\n",
    "try:\n",
    "    piece of code that might cause an error.\n",
    "except:\n",
    "    piece of code to handle that error."
   ]
  },
  {
   "cell_type": "raw",
   "id": "7b98efc9",
   "metadata": {},
   "source": [
    "Q14. What is the purpose of the try clause? What is the purpose of the except clause?\n",
    "\n",
    "Ans:-\n",
    "The code that might generate an error goes inside the 'try' clause. The code that executes if an error is generated goes inside the 'except' clause."
   ]
  }
 ],
 "metadata": {
  "kernelspec": {
   "display_name": "Python 3 (ipykernel)",
   "language": "python",
   "name": "python3"
  },
  "language_info": {
   "codemirror_mode": {
    "name": "ipython",
    "version": 3
   },
   "file_extension": ".py",
   "mimetype": "text/x-python",
   "name": "python",
   "nbconvert_exporter": "python",
   "pygments_lexer": "ipython3",
   "version": "3.9.12"
  }
 },
 "nbformat": 4,
 "nbformat_minor": 5
}
