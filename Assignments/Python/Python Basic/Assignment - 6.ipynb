{
 "cells": [
  {
   "cell_type": "raw",
   "id": "1d93e150",
   "metadata": {},
   "source": [
    "Q1. What are escape characters, and how do you use them?\n",
    "\n",
    "Ans:-\n",
    "Escape characters represent characters in string values that would otherwise be difficult or impossible to type into code. An escape character is a backslash \\ followed by the character you want to insert. \n",
    "e.g We can't insert double quotes inside a string that is surrounded by double quotes.\n",
    "s = \" my name is \"ram\" hello\" --> this string is not valid."
   ]
  },
  {
   "cell_type": "code",
   "execution_count": 2,
   "id": "a1df4a24",
   "metadata": {},
   "outputs": [
    {
     "ename": "SyntaxError",
     "evalue": "invalid syntax (1018852936.py, line 1)",
     "output_type": "error",
     "traceback": [
      "\u001b[1;36m  Input \u001b[1;32mIn [2]\u001b[1;36m\u001b[0m\n\u001b[1;33m    s = \" my name is \"ram\" hello\"\u001b[0m\n\u001b[1;37m                      ^\u001b[0m\n\u001b[1;31mSyntaxError\u001b[0m\u001b[1;31m:\u001b[0m invalid syntax\n"
     ]
    }
   ],
   "source": [
    "s = \" my name is \"ram\" hello\""
   ]
  },
  {
   "cell_type": "raw",
   "id": "3587d423",
   "metadata": {},
   "source": [
    "Q2. What do the escape characters n and t stand for?\n",
    "\n",
    "Ans:-\n",
    "\\n is used for newline and \\t is used for horizontal tab."
   ]
  },
  {
   "cell_type": "raw",
   "id": "7e2951fa",
   "metadata": {},
   "source": [
    "Q3. What is the way to include backslash characters in a string?\n",
    "\n",
    "Ans:-\n",
    "We have to use double backslash \\\\ to include backslash characters in a string."
   ]
  },
  {
   "cell_type": "raw",
   "id": "4211a948",
   "metadata": {},
   "source": [
    "Q4. The string \"Howl's Moving Castle\" is a correct value. Why isn't the single quote character in the word Howl's not escaped a problem?\n",
    "\n",
    "Ans:-\n",
    "The string \"Howl's Moving Castle\" is a correct value because it is surrounded by double quotes and in the word Howl's we have single quote so we have no issue. But if its surrounded by single quotes then we have to use escape character \\' to show single quote in the final output, 'Howl\\'s Moving Castle'."
   ]
  },
  {
   "cell_type": "code",
   "execution_count": 3,
   "id": "7e7cb8e1",
   "metadata": {},
   "outputs": [
    {
     "name": "stdout",
     "output_type": "stream",
     "text": [
      "Howl's Moving Castle\n",
      "Howl's Moving Castle\n"
     ]
    }
   ],
   "source": [
    "s1 = \"Howl's Moving Castle\"\n",
    "s2 = 'Howl\\'s Moving Castle'\n",
    "print(s1)\n",
    "print(s2)"
   ]
  },
  {
   "cell_type": "raw",
   "id": "82399d02",
   "metadata": {},
   "source": [
    "Q5. How do you write a string of newlines if you don't want to use the n character?\n",
    "\n",
    "Ans:-\n",
    "Multiline string allow's us to use newlines in string without the \\n escape character. For multiline string we have to write string inside \"\"\"demo_string\"\"\" or '''demo_string'''"
   ]
  },
  {
   "cell_type": "code",
   "execution_count": 10,
   "id": "fb9d2933",
   "metadata": {},
   "outputs": [
    {
     "name": "stdout",
     "output_type": "stream",
     "text": [
      "hello,\n",
      "world!\n"
     ]
    }
   ],
   "source": [
    "s = \"\"\"hello,\n",
    "world!\"\"\"\n",
    "print(s)\n"
   ]
  },
  {
   "cell_type": "raw",
   "id": "1a1ce5ce",
   "metadata": {},
   "source": [
    "Q6. What are the values of the given expressions?\n",
    "'Hello, world!'[1]\n",
    "'Hello, world!'[0:5]\n",
    "'Hello, world!'[:5]\n",
    "'Hello, world!'[3:]\n",
    "\n",
    "Ans:-\n",
    "'Hello, world!'[1]   ---> 'e'\n",
    "'Hello, world!'[0:5] ---> 'Hello'\n",
    "'Hello, world!'[:5]  ---> 'Hello'\n",
    "'Hello, world!'[3:]  ---> 'lo, world!'"
   ]
  },
  {
   "cell_type": "code",
   "execution_count": 11,
   "id": "ebb54c8a",
   "metadata": {},
   "outputs": [
    {
     "name": "stdout",
     "output_type": "stream",
     "text": [
      "e\n",
      "Hello\n",
      "Hello\n",
      "lo, world!\n"
     ]
    }
   ],
   "source": [
    "print('Hello, world!'[1])\n",
    "print('Hello, world!'[0:5])\n",
    "print('Hello, world!'[:5])\n",
    "print('Hello, world!'[3:])"
   ]
  },
  {
   "cell_type": "raw",
   "id": "6dbb6f43",
   "metadata": {},
   "source": [
    "Q7. What are the values of the following expressions?\n",
    "'Hello'.upper()\n",
    "'Hello'.upper().isupper()\n",
    "'Hello'.upper().lower()\n",
    "\n",
    "Ans:-\n",
    "'Hello'.upper()           ---> 'HELLO'\n",
    "'Hello'.upper().isupper() ---> True\n",
    "'Hello'.upper().lower()   ---> 'hello'"
   ]
  },
  {
   "cell_type": "code",
   "execution_count": 12,
   "id": "7024d9b0",
   "metadata": {},
   "outputs": [
    {
     "name": "stdout",
     "output_type": "stream",
     "text": [
      "HELLO\n",
      "True\n",
      "hello\n"
     ]
    }
   ],
   "source": [
    "print('Hello'.upper())\n",
    "print('Hello'.upper().isupper())\n",
    "print('Hello'.upper().lower())"
   ]
  },
  {
   "cell_type": "raw",
   "id": "ca1c03e9",
   "metadata": {},
   "source": [
    "Q8. What are the values of the following expressions?\n",
    "'Remember, remember, the fifth of July.'.split()\n",
    "'-'.join('There can only one.'.split())\n",
    "\n",
    "Ans:-\n",
    "'Remember, remember, the fifth of July.'.split() ---> ['Remember,', 'remember,', 'the', 'fifth', 'of', 'July.']\n",
    "'-'.join('There can only one.'.split())          ---> 'There-can-only-one.'"
   ]
  },
  {
   "cell_type": "code",
   "execution_count": 13,
   "id": "7dad253d",
   "metadata": {},
   "outputs": [
    {
     "name": "stdout",
     "output_type": "stream",
     "text": [
      "['Remember,', 'remember,', 'the', 'fifth', 'of', 'July.']\n",
      "There-can-only-one.\n"
     ]
    }
   ],
   "source": [
    "print('Remember, remember, the fifth of July.'.split()) \n",
    "print('-'.join('There can only one.'.split()))"
   ]
  },
  {
   "cell_type": "raw",
   "id": "10f3f321",
   "metadata": {},
   "source": [
    "Q9. What are the methods for right-justifying, left-justifying, and centering a string?\n",
    "\n",
    "Ans:-\n",
    "The rjust(),ljust(),center() string methods, respectively."
   ]
  },
  {
   "cell_type": "raw",
   "id": "1ef8399c",
   "metadata": {},
   "source": [
    "Q10. What is the best way to remove whitespace characters from the start or end?\n",
    "\n",
    "Ans:-\n",
    "The lstrip() and rstrip() methods remove whitesapce characters from the left and right ends of a string respectively. We can also use only strip() method it removes whitespace from start and end in one go."
   ]
  }
 ],
 "metadata": {
  "kernelspec": {
   "display_name": "Python 3 (ipykernel)",
   "language": "python",
   "name": "python3"
  },
  "language_info": {
   "codemirror_mode": {
    "name": "ipython",
    "version": 3
   },
   "file_extension": ".py",
   "mimetype": "text/x-python",
   "name": "python",
   "nbconvert_exporter": "python",
   "pygments_lexer": "ipython3",
   "version": "3.9.12"
  }
 },
 "nbformat": 4,
 "nbformat_minor": 5
}
