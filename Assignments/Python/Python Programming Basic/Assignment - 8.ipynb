{
 "cells": [
  {
   "cell_type": "markdown",
   "id": "b3bdf2b9",
   "metadata": {},
   "source": [
    "Q1.\tWrite a Python Program to Add Two Matrices?"
   ]
  },
  {
   "cell_type": "code",
   "execution_count": 17,
   "id": "86bc02c4",
   "metadata": {},
   "outputs": [
    {
     "name": "stdout",
     "output_type": "stream",
     "text": [
      "Matrix addition: \n",
      "[17, 15, 4]\n",
      "[10, 12, 9]\n",
      "[11, 13, 18]\n"
     ]
    }
   ],
   "source": [
    "m = [[12, 7, 3],\n",
    "    [4, 5, 6],\n",
    "    [7, 8, 9]]\n",
    "   \n",
    "n = [[5, 8, 1],\n",
    "    [6, 7, 3],\n",
    "    [4, 5, 9]]\n",
    "     \n",
    "r = [[0, 0, 0], \n",
    "     [0, 0, 0],\n",
    "     [0, 0, 0]]\n",
    "\n",
    "for i in range(len(m)):\n",
    "    for  j in range(len(n)):\n",
    "        r[i][j] = m[i][j] + n[i][j]\n",
    "\n",
    "print(\"Matrix addition: \")\n",
    "for i in r:\n",
    "    print(i)"
   ]
  },
  {
   "cell_type": "markdown",
   "id": "b6227e11",
   "metadata": {},
   "source": [
    "Q2.\tWrite a Python Program to Multiply Two Matrices?"
   ]
  },
  {
   "cell_type": "code",
   "execution_count": 18,
   "id": "bce3d12c",
   "metadata": {},
   "outputs": [
    {
     "name": "stdout",
     "output_type": "stream",
     "text": [
      "Matrix multiplication: \n",
      "[114, 160, 60, 27]\n",
      "[74, 97, 73, 14]\n",
      "[119, 157, 112, 23]\n"
     ]
    }
   ],
   "source": [
    "m = [[12, 7, 3],\n",
    "    [4, 5, 6],\n",
    "    [7, 8, 9]]\n",
    " \n",
    "n = [[5, 8, 1, 2],\n",
    "    [6, 7, 3, 0],\n",
    "    [4, 5, 9, 1]]\n",
    "     \n",
    "r = [[0, 0, 0, 0],\n",
    "    [0, 0, 0, 0],\n",
    "    [0, 0, 0, 0]]\n",
    "\n",
    "for i in range(len(m)):\n",
    "    for j in range(len(n[0])):\n",
    "        for k in range(len(n)):\n",
    "            r[i][j] += m[i][k] * n[k][j]\n",
    "            \n",
    "print(\"Matrix multiplication: \")\n",
    "for i in r:\n",
    "    print(i)"
   ]
  },
  {
   "cell_type": "markdown",
   "id": "3710c7a5",
   "metadata": {},
   "source": [
    "Q3.\tWrite a Python Program to Transpose a Matrix?"
   ]
  },
  {
   "cell_type": "code",
   "execution_count": 20,
   "id": "830b8f9d",
   "metadata": {},
   "outputs": [
    {
     "name": "stdout",
     "output_type": "stream",
     "text": [
      "Matrix transpose: \n",
      "[5, 6, 4]\n",
      "[8, 7, 5]\n",
      "[1, 3, 9]\n",
      "[2, 0, 1]\n"
     ]
    }
   ],
   "source": [
    "n = [[5, 8, 1, 2],\n",
    "    [6, 7, 3, 0],\n",
    "    [4, 5, 9, 1]]\n",
    "\n",
    "r = [[0, 0, 0],\n",
    "    [0, 0, 0],\n",
    "    [0, 0, 0],\n",
    "    [0, 0, 0]]\n",
    "\n",
    "for i in range(len(n)):\n",
    "    for j in range(len(r)):\n",
    "        r[j][i] = n[i][j]\n",
    "    \n",
    "print(\"Matrix transpose: \")\n",
    "for i in r:\n",
    "    print(i)"
   ]
  },
  {
   "cell_type": "markdown",
   "id": "e29534f3",
   "metadata": {},
   "source": [
    "Q4.\tWrite a Python Program to Sort Words in Alphabetic Order?"
   ]
  },
  {
   "cell_type": "code",
   "execution_count": 31,
   "id": "5f93774c",
   "metadata": {},
   "outputs": [
    {
     "name": "stdout",
     "output_type": "stream",
     "text": [
      "Enter a string: Python is commonly used for developing websites and software, task automation, data analysis, and data visualization.\n",
      "Python analysis, and and automation, commonly data data developing for is software, task used visualization. websites\n"
     ]
    }
   ],
   "source": [
    "s = input(\"Enter a string: \")\n",
    "print(\" \".join(sorted(s.split(\" \"))))"
   ]
  },
  {
   "cell_type": "markdown",
   "id": "6117d77e",
   "metadata": {},
   "source": [
    "Q5.\tWrite a Python Program to Remove Punctuation From a String?"
   ]
  },
  {
   "cell_type": "code",
   "execution_count": 41,
   "id": "857dbebe",
   "metadata": {},
   "outputs": [
    {
     "name": "stdout",
     "output_type": "stream",
     "text": [
      "Enter a string: hello, world!, my name: 'ram'\n",
      "hello world my name ram\n"
     ]
    }
   ],
   "source": [
    "p = \"\"\".,?'\";:[]()-_!/`\"\"\"\n",
    "s = input(\"Enter a string: \")\n",
    "r = \"\"\n",
    "for i in s:\n",
    "    if i not in p:\n",
    "        r += i\n",
    "print(r)"
   ]
  }
 ],
 "metadata": {
  "kernelspec": {
   "display_name": "Python 3 (ipykernel)",
   "language": "python",
   "name": "python3"
  },
  "language_info": {
   "codemirror_mode": {
    "name": "ipython",
    "version": 3
   },
   "file_extension": ".py",
   "mimetype": "text/x-python",
   "name": "python",
   "nbconvert_exporter": "python",
   "pygments_lexer": "ipython3",
   "version": "3.9.12"
  }
 },
 "nbformat": 4,
 "nbformat_minor": 5
}
