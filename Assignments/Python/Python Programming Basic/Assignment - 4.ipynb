{
 "cells": [
  {
   "cell_type": "markdown",
   "id": "3aee249f",
   "metadata": {},
   "source": [
    "Q1.\tWrite a Python Program to Find the Factorial of a Number?"
   ]
  },
  {
   "cell_type": "code",
   "execution_count": 28,
   "id": "2e390db7",
   "metadata": {},
   "outputs": [
    {
     "name": "stdout",
     "output_type": "stream",
     "text": [
      "Enter a number : 6\n",
      "Factorial of 6 is 720\n"
     ]
    }
   ],
   "source": [
    "f = 1\n",
    "n = int(input(\"Enter a number : \"))\n",
    "if n < 1:\n",
    "    print(\"Please enter right number.\")\n",
    "else:\n",
    "    for i in range(1, n + 1):\n",
    "        f *= i\n",
    "    print(\"Factorial of {} is {}\".format(n, f))"
   ]
  },
  {
   "cell_type": "markdown",
   "id": "4fd27f25",
   "metadata": {},
   "source": [
    "Q2.\tWrite a Python Program to Display the multiplication Table?"
   ]
  },
  {
   "cell_type": "code",
   "execution_count": 10,
   "id": "a29176b5",
   "metadata": {},
   "outputs": [
    {
     "name": "stdout",
     "output_type": "stream",
     "text": [
      "Enter a number: 5\n",
      "Multiplication Table of 5\n",
      "5 *  1 =  5\n",
      "5 *  2 = 10\n",
      "5 *  3 = 15\n",
      "5 *  4 = 20\n",
      "5 *  5 = 25\n",
      "5 *  6 = 30\n",
      "5 *  7 = 35\n",
      "5 *  8 = 40\n",
      "5 *  9 = 45\n",
      "5 * 10 = 50\n"
     ]
    }
   ],
   "source": [
    "n = int(input(\"Enter a number: \"))\n",
    "print(\"Multiplication Table of {}\".format(n))\n",
    "for i in range(1,11):\n",
    "    print(\"{} * {:2} = {:2}\".format(n, i, n * i))"
   ]
  },
  {
   "cell_type": "markdown",
   "id": "41411019",
   "metadata": {},
   "source": [
    "Q3.\tWrite a Python Program to Print the Fibonacci sequence?"
   ]
  },
  {
   "cell_type": "code",
   "execution_count": 15,
   "id": "cfb2985d",
   "metadata": {},
   "outputs": [
    {
     "name": "stdout",
     "output_type": "stream",
     "text": [
      "Enter a number: 15\n",
      "Fibonacci sequence of first 15 numbers\n",
      "0\n",
      "1\n",
      "1\n",
      "2\n",
      "3\n",
      "5\n",
      "8\n",
      "13\n",
      "21\n",
      "34\n",
      "55\n",
      "89\n",
      "144\n",
      "233\n",
      "377\n"
     ]
    }
   ],
   "source": [
    "n = int(input(\"Enter a number: \"))\n",
    "print(\"Fibonacci sequence of first {} numbers\".format(n))\n",
    "a = 0\n",
    "b = 1\n",
    "print(a)\n",
    "print(b)\n",
    "sum = 0\n",
    "for i in range(n-2):\n",
    "    sum = a + b\n",
    "    print(sum)\n",
    "    a = b\n",
    "    b = sum\n",
    "    \n",
    "    "
   ]
  },
  {
   "cell_type": "markdown",
   "id": "eaaa5afb",
   "metadata": {},
   "source": [
    "Q4.\tWrite a Python Program to Check Armstrong Number?"
   ]
  },
  {
   "cell_type": "code",
   "execution_count": 22,
   "id": "1d6a6ad4",
   "metadata": {},
   "outputs": [
    {
     "name": "stdout",
     "output_type": "stream",
     "text": [
      "Enter a number: 407\n",
      "407 is a armstrong number\n"
     ]
    }
   ],
   "source": [
    "n = int(input(\"Enter a number: \"))\n",
    "temp = n\n",
    "a = 0\n",
    "l = len(str(n))\n",
    "for i in range(l):\n",
    "    r = n % 10\n",
    "    a += r**l\n",
    "    n //= 10\n",
    "\n",
    "if a == temp:\n",
    "    print(\"{} is a armstrong number\".format(temp))\n",
    "else:\n",
    "    print(\"{} not a armstrong number\".format(temp))"
   ]
  },
  {
   "cell_type": "markdown",
   "id": "2f99a8db",
   "metadata": {},
   "source": [
    "Q5.\tWrite a Python Program to Find Armstrong Number in an Interval?"
   ]
  },
  {
   "cell_type": "code",
   "execution_count": 25,
   "id": "5566978b",
   "metadata": {},
   "outputs": [
    {
     "name": "stdout",
     "output_type": "stream",
     "text": [
      "Enter a number: 500\n",
      "Armstrong numbers from 1 to 500\n",
      "0\n",
      "1\n",
      "2\n",
      "3\n",
      "4\n",
      "5\n",
      "6\n",
      "7\n",
      "8\n",
      "9\n",
      "153\n",
      "370\n",
      "371\n",
      "407\n"
     ]
    }
   ],
   "source": [
    "n = int(input(\"Enter a number: \"))\n",
    "print(\"Armstrong numbers from 1 to {}\".format(n))\n",
    "for i in range(n):\n",
    "    temp = i\n",
    "    a = 0\n",
    "    l = len(str(i))\n",
    "    for j in range(0, l):\n",
    "        r = i % 10\n",
    "        a += r**l\n",
    "        i //= 10\n",
    "\n",
    "    if a == temp:\n",
    "        print(a)\n",
    "    # else:\n",
    "        # print(\"{} not a armstrong number\".format(temp))\n"
   ]
  },
  {
   "cell_type": "markdown",
   "id": "af110ea6",
   "metadata": {},
   "source": [
    "Q6.\tWrite a Python Program to Find the Sum of Natural Numbers?"
   ]
  },
  {
   "cell_type": "code",
   "execution_count": 31,
   "id": "29024ca1",
   "metadata": {},
   "outputs": [
    {
     "name": "stdout",
     "output_type": "stream",
     "text": [
      "Enter a number: 100\n",
      "Sum of natural number from 1 to 100\n",
      "5050.0\n"
     ]
    }
   ],
   "source": [
    "n = int(input(\"Enter a number: \"))\n",
    "print(\"Sum of natural number from 1 to {}\".format(n))\n",
    "sum = 0\n",
    "sum = n*(n + 1)/2\n",
    "    \n",
    "print(sum)\n",
    "    \n",
    "    "
   ]
  }
 ],
 "metadata": {
  "kernelspec": {
   "display_name": "Python 3 (ipykernel)",
   "language": "python",
   "name": "python3"
  },
  "language_info": {
   "codemirror_mode": {
    "name": "ipython",
    "version": 3
   },
   "file_extension": ".py",
   "mimetype": "text/x-python",
   "name": "python",
   "nbconvert_exporter": "python",
   "pygments_lexer": "ipython3",
   "version": "3.9.12"
  }
 },
 "nbformat": 4,
 "nbformat_minor": 5
}
