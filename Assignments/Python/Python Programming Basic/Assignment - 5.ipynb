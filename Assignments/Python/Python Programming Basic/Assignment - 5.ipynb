{
 "cells": [
  {
   "cell_type": "markdown",
   "id": "09584f7f",
   "metadata": {},
   "source": [
    "Q1.\tWrite a Python Program to Find LCM?"
   ]
  },
  {
   "cell_type": "code",
   "execution_count": 21,
   "id": "6f833908",
   "metadata": {},
   "outputs": [
    {
     "name": "stdout",
     "output_type": "stream",
     "text": [
      "Enter 1st number: 12\n",
      "Enter 2nd number: 30\n",
      "LCM of 12 and 30 is 60\n"
     ]
    }
   ],
   "source": [
    "n1 = int(input(\"Enter 1st number: \"))\n",
    "n2 = int(input(\"Enter 2nd number: \"))\n",
    "\n",
    "if n1 > n2:\n",
    "    for i in range(n2, 0, -1):\n",
    "        if n1 % i == 0 and n2 % i == 0:\n",
    "            break\n",
    "else:\n",
    "    for i in range(n1, 0, -1):\n",
    "        if n1 % i == 0 and n2 % i == 0:\n",
    "            break\n",
    "\n",
    "lcm = (n1 * n2)//i\n",
    "print(\"LCM of {} and {} is {}\".format(n1, n2, lcm))       "
   ]
  },
  {
   "cell_type": "markdown",
   "id": "7deb2ce3",
   "metadata": {},
   "source": [
    "Q2.\tWrite a Python Program to Find HCF?"
   ]
  },
  {
   "cell_type": "code",
   "execution_count": 18,
   "id": "6420ff1c",
   "metadata": {},
   "outputs": [
    {
     "name": "stdout",
     "output_type": "stream",
     "text": [
      "Enter 1st number: 12\n",
      "Enter 2nd number: 24\n",
      "HCF of 12 and 24 is 12\n"
     ]
    }
   ],
   "source": [
    "n1 = int(input(\"Enter 1st number: \"))\n",
    "n2 = int(input(\"Enter 2nd number: \"))\n",
    "\n",
    "if n1 > n2:\n",
    "    for i in range(n2, 0, -1):\n",
    "        if n1 % i == 0 and n2 % i == 0:\n",
    "            break\n",
    "else:\n",
    "    for i in range(n1, 0, -1):\n",
    "        if n1 % i == 0 and n2 % i == 0:\n",
    "            break\n",
    "print(\"HCF of {} and {} is {}\".format(n1, n2, i))       "
   ]
  },
  {
   "cell_type": "markdown",
   "id": "c344cee5",
   "metadata": {},
   "source": [
    "Q3.\tWrite a Python Program to Convert Decimal to Binary, Octal and Hexadecimal?"
   ]
  },
  {
   "cell_type": "code",
   "execution_count": 60,
   "id": "8b6ab3d5",
   "metadata": {},
   "outputs": [
    {
     "name": "stdout",
     "output_type": "stream",
     "text": [
      "Enter a number: 125645\n",
      "Binary conversion of given number is  11110101011001101\n",
      "Octal conversion of given number is  365315\n",
      "Hexadecimal conversion of given number is  1EACD\n"
     ]
    }
   ],
   "source": [
    "n = int(input(\"Enter a number: \"))\n",
    "n1 = n\n",
    "n2 = n\n",
    "b = []\n",
    "while n > 1:\n",
    "    b.append(str(n % 2))\n",
    "    n //= 2\n",
    "b.append(str(n))\n",
    "print(\"Binary conversion of given number is \",\"\".join(b[::-1]))\n",
    " \n",
    "o = []\n",
    "while n1 > 7:\n",
    "    o.append(str(n1 % 8))\n",
    "    n1 //= 8\n",
    "o.append(str(n1))\n",
    "print(\"Octal conversion of given number is \",\"\".join(o[::-1]))\n",
    "\n",
    "h = []\n",
    "while n2 > 15:\n",
    "    h.append(str(n2 % 16))\n",
    "    n2 //= 16\n",
    "h.append(str(n2))\n",
    "\n",
    "for i in range(len(h)):\n",
    "    if int(h[i]) > 9:\n",
    "        h[i] = chr(65 + (int(h[i]) - 10))\n",
    "        \n",
    "print(\"Hexadecimal conversion of given number is \",\"\".join(h[::-1]))"
   ]
  },
  {
   "cell_type": "code",
   "execution_count": 64,
   "id": "09b7bb29",
   "metadata": {},
   "outputs": [
    {
     "name": "stdout",
     "output_type": "stream",
     "text": [
      "Enter a Number: 125645\n",
      "Binary conversion of given number is 0b11110101011001101\n",
      "Octal conversion of given number is 0o365315\n",
      "Hexadecimal conversion of given number is 0x1eacd\n"
     ]
    }
   ],
   "source": [
    "n = int(input(\"Enter a Number: \"))\n",
    "print(\"Binary conversion of given number is {}\".format(bin(n)))\n",
    "print(\"Octal conversion of given number is {}\".format(oct(n)))    \n",
    "print(\"Hexadecimal conversion of given number is {}\".format(hex(n))) "
   ]
  },
  {
   "cell_type": "markdown",
   "id": "e407f15f",
   "metadata": {},
   "source": [
    "Q4.\tWrite a Python Program To Find ASCII value of a character?"
   ]
  },
  {
   "cell_type": "code",
   "execution_count": 61,
   "id": "028178ac",
   "metadata": {},
   "outputs": [
    {
     "name": "stdout",
     "output_type": "stream",
     "text": [
      "Enter a character : a\n",
      "97\n"
     ]
    }
   ],
   "source": [
    "c = input(\"Enter a character : \")\n",
    "if len(c) > 1:\n",
    "    print(\"Enter correct character\")\n",
    "else:\n",
    "    print(ord(c))"
   ]
  },
  {
   "cell_type": "markdown",
   "id": "163a5c7e",
   "metadata": {},
   "source": [
    "Q5.\tWrite a Python Program to Make a Simple Calculator with 4 basic mathematical operations?"
   ]
  },
  {
   "cell_type": "code",
   "execution_count": 69,
   "id": "af89c2ae",
   "metadata": {},
   "outputs": [
    {
     "name": "stdout",
     "output_type": "stream",
     "text": [
      "Select a Arithmetic Operation:         \n",
      "1.Addition(+)        \n",
      "2.Division(-)        \n",
      "2.Multiplication(*)        \n",
      "4.Division(/)        \n",
      "3.Stop(0)\n",
      "\n",
      "Enter a arithmetic operation :-\n",
      "\n",
      "Enter 1st Number: 20\n",
      "Enter 2nd Number: 10\n",
      "20 - 10 = 10\n",
      "\n",
      "Enter a arithmetic operation :0\n",
      "Program Stopped successfully\n"
     ]
    }
   ],
   "source": [
    "import operator\n",
    "\n",
    "ops = { \"+\": operator.add, \"-\": operator.sub, \"*\":operator.mul, \"/\":operator.truediv } \n",
    "\n",
    "print(\"Select a Arithmetic Operation: \\\n",
    "        \\n1.Addition(+)\\\n",
    "        \\n2.Division(-)\\\n",
    "        \\n2.Multiplication(*)\\\n",
    "        \\n4.Division(/)\\\n",
    "        \\n3.Stop(0)\\n\")\n",
    "   \n",
    "\n",
    "while True:\n",
    "    operator = input(\"Enter a arithmetic operation :\")\n",
    "    if operator == '0':\n",
    "        print(\"Program Stopped successfully\")\n",
    "        break\n",
    "    elif operator not in ['+','-','*','/']:\n",
    "        print(\"Please enter a valid operator\")\n",
    "    else:\n",
    "        n1 = int(input(\"\\nEnter 1st Number: \"))\n",
    "        n2 = int(input(\"Enter 2nd Number: \"))\n",
    "        print(\"{} {} {} = {}\\n\".format(n1, operator, n2, ops[operator](n1,n2)))"
   ]
  }
 ],
 "metadata": {
  "kernelspec": {
   "display_name": "Python 3 (ipykernel)",
   "language": "python",
   "name": "python3"
  },
  "language_info": {
   "codemirror_mode": {
    "name": "ipython",
    "version": 3
   },
   "file_extension": ".py",
   "mimetype": "text/x-python",
   "name": "python",
   "nbconvert_exporter": "python",
   "pygments_lexer": "ipython3",
   "version": "3.9.12"
  }
 },
 "nbformat": 4,
 "nbformat_minor": 5
}
