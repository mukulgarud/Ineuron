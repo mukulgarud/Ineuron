{
 "cells": [
  {
   "cell_type": "markdown",
   "id": "2015aa31",
   "metadata": {},
   "source": [
    "Q1.\tWrite a Python Program to find sum of array?"
   ]
  },
  {
   "cell_type": "code",
   "execution_count": 9,
   "id": "3c2a0d75",
   "metadata": {},
   "outputs": [
    {
     "name": "stdout",
     "output_type": "stream",
     "text": [
      "Enter length of list: 10\n",
      "1\n",
      "2\n",
      "3\n",
      "4\n",
      "5\n",
      "6\n",
      "7\n",
      "8\n",
      "9\n",
      "10\n",
      "Sum of given list [1, 2, 3, 4, 5, 6, 7, 8, 9, 10] is 55\n"
     ]
    }
   ],
   "source": [
    "n = int(input(\"Enter length of list: \"))\n",
    "l = []\n",
    "for i in range(n):\n",
    "    l.append(int(input()))\n",
    "print(\"Sum of given list {} is {}\".format(l, sum(l)))"
   ]
  },
  {
   "cell_type": "markdown",
   "id": "959725a9",
   "metadata": {},
   "source": [
    "Q2.\tWrite a Python Program to find largest element in an array?"
   ]
  },
  {
   "cell_type": "code",
   "execution_count": 10,
   "id": "3caf9e83",
   "metadata": {},
   "outputs": [
    {
     "name": "stdout",
     "output_type": "stream",
     "text": [
      "Enter length of list: 5\n",
      "10\n",
      "25\n",
      "64\n",
      "23\n",
      "82\n",
      "Largest element in given list [10, 25, 64, 23, 82] is 82\n"
     ]
    }
   ],
   "source": [
    "n = int(input(\"Enter length of list: \"))\n",
    "l = []\n",
    "for i in range(n):\n",
    "    l.append(int(input()))\n",
    "print(\"Largest element in given list {} is {}\".format(l, max(l)))"
   ]
  },
  {
   "cell_type": "markdown",
   "id": "2d452332",
   "metadata": {},
   "source": [
    "3.\tWrite a Python Program for array rotation?"
   ]
  },
  {
   "cell_type": "code",
   "execution_count": 16,
   "id": "63351e16",
   "metadata": {},
   "outputs": [
    {
     "name": "stdout",
     "output_type": "stream",
     "text": [
      "Enter length of list: 5\n",
      "10\n",
      "20\n",
      "30\n",
      "40\n",
      "50\n",
      "List before rotation [10, 20, 30, 40, 50]\n",
      "\n",
      "1. Left rotation\n",
      "2. Right rotation\n",
      "0. Exit\n",
      "Enter your choice: 2\n",
      "List after Right rotaion [50, 10, 20, 30, 40]\n",
      "\n",
      "1. Left rotation\n",
      "2. Right rotation\n",
      "0. Exit\n",
      "Enter your choice: 2\n",
      "List after Right rotaion [40, 50, 10, 20, 30]\n",
      "\n",
      "1. Left rotation\n",
      "2. Right rotation\n",
      "0. Exit\n",
      "Enter your choice: 2\n",
      "List after Right rotaion [30, 40, 50, 10, 20]\n",
      "\n",
      "1. Left rotation\n",
      "2. Right rotation\n",
      "0. Exit\n",
      "Enter your choice: 1\n",
      "List after Left rotation [40, 50, 10, 20, 30]\n",
      "\n",
      "1. Left rotation\n",
      "2. Right rotation\n",
      "0. Exit\n",
      "Enter your choice: 1\n",
      "List after Left rotation [50, 10, 20, 30, 40]\n",
      "\n",
      "1. Left rotation\n",
      "2. Right rotation\n",
      "0. Exit\n",
      "Enter your choice: 1\n",
      "List after Left rotation [10, 20, 30, 40, 50]\n",
      "\n",
      "1. Left rotation\n",
      "2. Right rotation\n",
      "0. Exit\n",
      "Enter your choice: 0\n"
     ]
    }
   ],
   "source": [
    "n = int(input(\"Enter length of list: \"))\n",
    "l = []\n",
    "for i in range(n):\n",
    "    l.append(int(input()))\n",
    "print(\"List before rotation\",l)\n",
    "temp = l\n",
    "while True:\n",
    "    print(\"\\n1. Left rotation\\n2. Right rotation\\n0. Exit\")\n",
    "    choice = int(input(\"Enter your choice: \"))\n",
    "    if choice == 0:\n",
    "        break\n",
    "    elif choice == 1:\n",
    "        l[:] = l[1:n] + l[0:1]\n",
    "        print(\"List after Left rotation\",l)\n",
    "    elif choice == 2:\n",
    "        l[:] = l[-1:n] + l[0:n-1]\n",
    "        print(\"List after Right rotaion\",l)\n",
    "    else:\n",
    "        print(\"Please enter correct option.\")"
   ]
  },
  {
   "cell_type": "markdown",
   "id": "a37a05f3",
   "metadata": {},
   "source": [
    "Q4.\tWrite a Python Program to Split the array and add the first part to the end?"
   ]
  },
  {
   "cell_type": "code",
   "execution_count": 17,
   "id": "0d77b8f8",
   "metadata": {},
   "outputs": [
    {
     "name": "stdout",
     "output_type": "stream",
     "text": [
      "Enter length of list: 5\n",
      "1\n",
      "2\n",
      "3\n",
      "4\n",
      "5\n",
      "List before split [1, 2, 3, 4, 5]\n",
      "Enter how many elements you have to split: 2\n",
      "After split and add [3, 4, 5, 1, 2]\n"
     ]
    }
   ],
   "source": [
    "n = int(input(\"Enter length of list: \"))\n",
    "l = []\n",
    "for i in range(n):\n",
    "    l.append(int(input()))\n",
    "print(\"List before split\",l)\n",
    "s = int(input(\"Enter how many elements you have to split: \"))\n",
    "if 0 < s < n:\n",
    "    l[:] = l[s:n] + l[0:s]\n",
    "    print(\"After split and add\",l)\n",
    "else:\n",
    "    print(\"You have entered split value greater or smaller than length of list. \")"
   ]
  },
  {
   "cell_type": "markdown",
   "id": "65d0432c",
   "metadata": {},
   "source": [
    "Q5.\tWrite a Python Program to check if given array is Monotonic?"
   ]
  },
  {
   "cell_type": "code",
   "execution_count": 31,
   "id": "62ce4d86",
   "metadata": {},
   "outputs": [
    {
     "name": "stdout",
     "output_type": "stream",
     "text": [
      "Enter length of list: 5\n",
      "5\n",
      "4\n",
      "3\n",
      "2\n",
      "1\n",
      "list is Monotonic [5, 4, 3, 2, 1]\n"
     ]
    }
   ],
   "source": [
    "n = int(input(\"Enter length of list: \"))\n",
    "l = []\n",
    "for i in range(n):\n",
    "    l.append(int(input()))\n",
    "\n",
    "if l == sorted(l):\n",
    "    print(\"list is Monotonic\",l)\n",
    "elif l == sorted(l, reverse=True):\n",
    "    print(\"list is Monotonic\",l)\n",
    "else:\n",
    "    print(\"list is not Monotonic\",l)\n"
   ]
  }
 ],
 "metadata": {
  "kernelspec": {
   "display_name": "Python 3 (ipykernel)",
   "language": "python",
   "name": "python3"
  },
  "language_info": {
   "codemirror_mode": {
    "name": "ipython",
    "version": 3
   },
   "file_extension": ".py",
   "mimetype": "text/x-python",
   "name": "python",
   "nbconvert_exporter": "python",
   "pygments_lexer": "ipython3",
   "version": "3.9.12"
  }
 },
 "nbformat": 4,
 "nbformat_minor": 5
}
