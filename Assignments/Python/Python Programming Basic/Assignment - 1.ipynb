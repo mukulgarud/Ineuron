{
 "cells": [
  {
   "cell_type": "markdown",
   "id": "223200c5",
   "metadata": {},
   "source": [
    "Q1.\tWrite a Python program to print \"Hello Python\"?"
   ]
  },
  {
   "cell_type": "code",
   "execution_count": 1,
   "id": "96e1b0de",
   "metadata": {},
   "outputs": [
    {
     "name": "stdout",
     "output_type": "stream",
     "text": [
      "Hello Python\n"
     ]
    }
   ],
   "source": [
    "print(\"Hello Python\")"
   ]
  },
  {
   "cell_type": "markdown",
   "id": "452aa1ac",
   "metadata": {},
   "source": [
    "Q2.\tWrite a Python program to do arithmetical operations addition and division.?"
   ]
  },
  {
   "cell_type": "code",
   "execution_count": 4,
   "id": "13641fcc",
   "metadata": {},
   "outputs": [
    {
     "name": "stdout",
     "output_type": "stream",
     "text": [
      "Please enter 2 numbers\n",
      "First number:10\n",
      "Second number:10\n",
      "\n",
      "Please select one of the following option\n",
      "1. Addition\n",
      "2. Division\n",
      "3. Exit\n",
      "1\n",
      "10 + 10 = 20\n",
      "\n",
      "Please enter 2 numbers\n",
      "First number:25\n",
      "Second number:24\n",
      "\n",
      "Please select one of the following option\n",
      "1. Addition\n",
      "2. Division\n",
      "3. Exit\n",
      "2\n",
      "25 / 24 = 1.0416666666666667\n",
      "\n",
      "Please enter 2 numbers\n",
      "First number:10\n",
      "Second number:10\n",
      "\n",
      "Please select one of the following option\n",
      "1. Addition\n",
      "2. Division\n",
      "3. Exit\n",
      "3\n"
     ]
    }
   ],
   "source": [
    "while True:\n",
    "    print(\"Please enter 2 numbers\")\n",
    "    a = int(input(\"First number:\"))\n",
    "    b = int(input(\"Second number:\"))\n",
    "    print(\"\\nPlease select one of the following option\")\n",
    "    print(\"1. Addition\\n2. Division\\n3. Exit\")\n",
    "    choice = input()\n",
    "    if choice == '1':\n",
    "        print(\"{} + {} = {}\\n\".format(a, b, a + b))\n",
    "\n",
    "    elif choice == '2':\n",
    "        print(\"{} / {} = {}\\n\".format(a, b, a / b))\n",
    "\n",
    "    elif choice == '3':\n",
    "        break\n",
    "\n",
    "    else:\n",
    "        print(\"You have selected wrong option. Please start again\")"
   ]
  },
  {
   "cell_type": "markdown",
   "id": "da6906ca",
   "metadata": {},
   "source": [
    "Q3.\tWrite a Python program to find the area of a triangle?"
   ]
  },
  {
   "cell_type": "code",
   "execution_count": 5,
   "id": "8ab31d9f",
   "metadata": {},
   "outputs": [
    {
     "name": "stdout",
     "output_type": "stream",
     "text": [
      "Please enter height and base of triangle:\n",
      "Height :10\n",
      "Base :10\n",
      "Area of triangle =  50.0\n"
     ]
    }
   ],
   "source": [
    "print(\"Please enter height and base of triangle:\")\n",
    "h = int(input(\"Height :\"))\n",
    "b = int(input(\"Base :\"))\n",
    "area = 0.5 * b * h\n",
    "print(\"Area of triangle = \",area)"
   ]
  },
  {
   "cell_type": "markdown",
   "id": "e20fd620",
   "metadata": {},
   "source": [
    "Q4.\tWrite a Python program to swap two variables?"
   ]
  },
  {
   "cell_type": "code",
   "execution_count": 6,
   "id": "76a421ef",
   "metadata": {},
   "outputs": [
    {
     "name": "stdout",
     "output_type": "stream",
     "text": [
      "Please enter 2 numbers to swap\n",
      "Number 1: 25\n",
      "Number 2: 20\n",
      "Before swap Number 1: 25 and Number 2: 20\n",
      "After swap Number 1: 20 and Number 2: 25\n"
     ]
    }
   ],
   "source": [
    "print(\"Please enter 2 numbers to swap\")\n",
    "a = int(input(\"Number 1: \"))\n",
    "b = int(input(\"Number 2: \"))\n",
    "print(\"Before swap Number 1: {} and Number 2: {}\".format(a, b))\n",
    "temp = a\n",
    "a = b\n",
    "b = temp\n",
    "print(\"After swap Number 1: {} and Number 2: {}\".format(a, b))"
   ]
  },
  {
   "cell_type": "markdown",
   "id": "8063d4c5",
   "metadata": {},
   "source": [
    "Q5. Write a Python program to generate a random number?"
   ]
  },
  {
   "cell_type": "code",
   "execution_count": 26,
   "id": "d708892d",
   "metadata": {},
   "outputs": [
    {
     "name": "stdout",
     "output_type": "stream",
     "text": [
      "2 Random numbers between 1 to 1000: \n",
      "82\n",
      "742\n"
     ]
    }
   ],
   "source": [
    "import random\n",
    "print(\"2 Random numbers between 1 to 1000: \")\n",
    "print(random.randint(1,1000))\n",
    "print(random.randint(1,1000))"
   ]
  }
 ],
 "metadata": {
  "kernelspec": {
   "display_name": "Python 3 (ipykernel)",
   "language": "python",
   "name": "python3"
  },
  "language_info": {
   "codemirror_mode": {
    "name": "ipython",
    "version": 3
   },
   "file_extension": ".py",
   "mimetype": "text/x-python",
   "name": "python",
   "nbconvert_exporter": "python",
   "pygments_lexer": "ipython3",
   "version": "3.9.12"
  }
 },
 "nbformat": 4,
 "nbformat_minor": 5
}
