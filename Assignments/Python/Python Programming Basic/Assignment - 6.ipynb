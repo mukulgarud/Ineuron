{
 "cells": [
  {
   "cell_type": "markdown",
   "id": "a71b53c7",
   "metadata": {},
   "source": [
    "Q1.\tWrite a Python Program to Display Fibonacci Sequence Using Recursion?"
   ]
  },
  {
   "cell_type": "code",
   "execution_count": 2,
   "id": "81e99640",
   "metadata": {},
   "outputs": [
    {
     "name": "stdout",
     "output_type": "stream",
     "text": [
      "Enter a number: 20\n",
      "Fibonacci sequence \n",
      "0\n",
      "1\n",
      "1\n",
      "2\n",
      "3\n",
      "5\n",
      "8\n",
      "13\n",
      "21\n",
      "34\n",
      "55\n",
      "89\n",
      "144\n",
      "233\n",
      "377\n",
      "610\n",
      "987\n",
      "1597\n",
      "2584\n",
      "4181\n"
     ]
    }
   ],
   "source": [
    "def fib(n):\n",
    "    if n <= 1:\n",
    "       return n\n",
    "    else:\n",
    "        return fib(n - 1) + fib(n - 2)\n",
    "    \n",
    "\n",
    "n = int(input(\"Enter a number: \"))\n",
    "if n <= 0:\n",
    "    print(\"Please enter number greater than 0.\")\n",
    "else:\n",
    "    print(\"Fibonacci sequence \")\n",
    "    for i in range(n):\n",
    "        print(fib(i))"
   ]
  },
  {
   "cell_type": "markdown",
   "id": "8d45b184",
   "metadata": {},
   "source": [
    "Q2.\tWrite a Python Program to Find Factorial of Number Using Recursion?"
   ]
  },
  {
   "cell_type": "code",
   "execution_count": 14,
   "id": "bdb4f32c",
   "metadata": {},
   "outputs": [
    {
     "name": "stdout",
     "output_type": "stream",
     "text": [
      "Enter a number: 6\n",
      "Factorial of 6 is 720\n"
     ]
    }
   ],
   "source": [
    "def fact(n):\n",
    "    if n < 1:\n",
    "        return 1\n",
    "    else:\n",
    "        return n * fact(n - 1)\n",
    "    \n",
    "\n",
    "n = int(input(\"Enter a number: \"))\n",
    "print(\"Factorial of {} is {}\".format(n, fact(n)))"
   ]
  },
  {
   "cell_type": "markdown",
   "id": "03e5576b",
   "metadata": {},
   "source": [
    "Q3.\tWrite a Python Program to calculate your Body Mass Index?"
   ]
  },
  {
   "cell_type": "code",
   "execution_count": 17,
   "id": "e57b1f68",
   "metadata": {},
   "outputs": [
    {
     "name": "stdout",
     "output_type": "stream",
     "text": [
      "Enter your Weight(kgs): 75\n",
      "Enter your Height(mts): 1.62\n",
      "Your're BMI is 28.577960676726104 which means your Overweight.\n"
     ]
    }
   ],
   "source": [
    "w = float(input(\"Enter your Weight(kgs): \"))\n",
    "h = float(input(\"Enter your Height(mts): \"))\n",
    "bmi = w / h ** 2\n",
    "if (bmi < 18.5):\n",
    "    status = \"Underweight\"\n",
    "elif (bmi >= 18.5 and bmi < 24.9):\n",
    "    status = \"Healthy\"\n",
    "elif (bmi >= 24.9 and bmi < 30):\n",
    "    status = \"Overweight\"\n",
    "elif (bmi >=30):\n",
    "    status = \"Suffering from Obesity\"\n",
    "print(\"Your're BMI is {} which means your {}.\".format(bmi, status))"
   ]
  },
  {
   "cell_type": "markdown",
   "id": "e87858f0",
   "metadata": {},
   "source": [
    "Q4.\tWrite a Python Program to calculate the natural logarithm of any number?"
   ]
  },
  {
   "cell_type": "code",
   "execution_count": 23,
   "id": "0119725d",
   "metadata": {},
   "outputs": [
    {
     "name": "stdout",
     "output_type": "stream",
     "text": [
      "Enter a number: 10\n",
      "Natural log of 10 is 2.302585092994046\n"
     ]
    }
   ],
   "source": [
    "from math import log\n",
    "\n",
    "n = int(input(\"Enter a number: \"))\n",
    "\n",
    "if n <= 0:\n",
    "    print(\"Please enter correct number.\")\n",
    "else:\n",
    "    print(\"Natural log of {} is {}\".format(n, log(n)))"
   ]
  },
  {
   "cell_type": "markdown",
   "id": "2bedeb17",
   "metadata": {},
   "source": [
    "Q5.\tWrite a Python Program for cube sum of first n natural numbers?"
   ]
  },
  {
   "cell_type": "code",
   "execution_count": 25,
   "id": "d9239ebf",
   "metadata": {},
   "outputs": [
    {
     "name": "stdout",
     "output_type": "stream",
     "text": [
      "Enter a number: 6\n",
      "Cube sum of first 6 natural numbers is 441.0\n"
     ]
    }
   ],
   "source": [
    "n = int(input(\"Enter a number: \"))\n",
    "sum = (n * (n + 1) / 2) ** 2\n",
    "print(\"Cube sum of first {} natural numbers is {}\".format(n, sum))"
   ]
  }
 ],
 "metadata": {
  "kernelspec": {
   "display_name": "Python 3 (ipykernel)",
   "language": "python",
   "name": "python3"
  },
  "language_info": {
   "codemirror_mode": {
    "name": "ipython",
    "version": 3
   },
   "file_extension": ".py",
   "mimetype": "text/x-python",
   "name": "python",
   "nbconvert_exporter": "python",
   "pygments_lexer": "ipython3",
   "version": "3.9.12"
  }
 },
 "nbformat": 4,
 "nbformat_minor": 5
}
