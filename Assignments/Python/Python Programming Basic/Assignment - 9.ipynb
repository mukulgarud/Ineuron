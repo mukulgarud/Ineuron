{
 "cells": [
  {
   "cell_type": "markdown",
   "id": "1e760afb",
   "metadata": {},
   "source": [
    "Q1.\tWrite a Python program to check if the given number is a Disarium Number?"
   ]
  },
  {
   "cell_type": "code",
   "execution_count": 8,
   "id": "56b9cde1",
   "metadata": {},
   "outputs": [
    {
     "name": "stdout",
     "output_type": "stream",
     "text": [
      "Enter a number: 518\n",
      "518 is a Disarium Number\n"
     ]
    }
   ],
   "source": [
    "n = int(input(\"Enter a number: \"))\n",
    "temp = n\n",
    "l = len(str(n))\n",
    "result = 0\n",
    "while l != 0:\n",
    "    r = n % 10\n",
    "    n //= 10\n",
    "    result += r ** l\n",
    "    l -= 1\n",
    "    \n",
    "if result == temp:\n",
    "    print(\"{} is a Disarium Number\".format(temp))\n",
    "else:\n",
    "    print(\"{} is not a Disarium Number\".format(temp))"
   ]
  },
  {
   "cell_type": "markdown",
   "id": "2f8187c6",
   "metadata": {},
   "source": [
    "Q2.\tWrite a Python program to print all disarium numbers between 1 to 100?"
   ]
  },
  {
   "cell_type": "code",
   "execution_count": 10,
   "id": "9266c4d8",
   "metadata": {},
   "outputs": [
    {
     "name": "stdout",
     "output_type": "stream",
     "text": [
      "1 is a Disarium Number\n",
      "2 is a Disarium Number\n",
      "3 is a Disarium Number\n",
      "4 is a Disarium Number\n",
      "5 is a Disarium Number\n",
      "6 is a Disarium Number\n",
      "7 is a Disarium Number\n",
      "8 is a Disarium Number\n",
      "9 is a Disarium Number\n",
      "89 is a Disarium Number\n"
     ]
    }
   ],
   "source": [
    "for n in range(1, 101):\n",
    "    temp = n\n",
    "    l = len(str(n))\n",
    "    result = 0\n",
    "    while l != 0:\n",
    "        r = n % 10\n",
    "        n //= 10\n",
    "        result += r ** l\n",
    "        l -= 1\n",
    "    \n",
    "    if result == temp:\n",
    "        print(\"{} is a Disarium Number\".format(temp))\n",
    "   "
   ]
  },
  {
   "cell_type": "markdown",
   "id": "693fc0d4",
   "metadata": {},
   "source": [
    "Q3.\tWrite a Python program to check if the given number is Happy Number?"
   ]
  },
  {
   "cell_type": "code",
   "execution_count": 26,
   "id": "aec7f08a",
   "metadata": {},
   "outputs": [
    {
     "name": "stdout",
     "output_type": "stream",
     "text": [
      "Enter a number: 23\n",
      "23 is a Happy Number\n"
     ]
    }
   ],
   "source": [
    "n = int(input(\"Enter a number: \"))\n",
    "temp = n\n",
    "result = 0\n",
    "while n != 0:\n",
    "    r = n % 10\n",
    "    n //= 10\n",
    "    result += r ** 2\n",
    "    if n == 0:\n",
    "        if result == 1:\n",
    "            print(\"{} is a Happy Number\".format(temp))\n",
    "            break\n",
    "        elif result == 4:\n",
    "            print(\"{} is not a Happy Number\".format(temp))\n",
    "            break\n",
    "        else:\n",
    "            n = result\n",
    "            result = 0"
   ]
  },
  {
   "cell_type": "markdown",
   "id": "f08efe53",
   "metadata": {},
   "source": [
    "Q4.\tWrite a Python program to print all happy numbers between 1 and 100?"
   ]
  },
  {
   "cell_type": "code",
   "execution_count": 27,
   "id": "e622d5d1",
   "metadata": {},
   "outputs": [
    {
     "name": "stdout",
     "output_type": "stream",
     "text": [
      "1 is a Happy Number\n",
      "7 is a Happy Number\n",
      "10 is a Happy Number\n",
      "13 is a Happy Number\n",
      "19 is a Happy Number\n",
      "23 is a Happy Number\n",
      "28 is a Happy Number\n",
      "31 is a Happy Number\n",
      "32 is a Happy Number\n",
      "44 is a Happy Number\n",
      "49 is a Happy Number\n",
      "68 is a Happy Number\n",
      "70 is a Happy Number\n",
      "79 is a Happy Number\n",
      "82 is a Happy Number\n",
      "86 is a Happy Number\n",
      "91 is a Happy Number\n",
      "94 is a Happy Number\n",
      "97 is a Happy Number\n",
      "100 is a Happy Number\n"
     ]
    }
   ],
   "source": [
    "for n in range(1, 101):\n",
    "    temp = n\n",
    "    result = 0\n",
    "    while n != 0:\n",
    "        r = n % 10\n",
    "        n //= 10\n",
    "        result += r ** 2\n",
    "        if n == 0:\n",
    "            if result == 1:\n",
    "                print(\"{} is a Happy Number\".format(temp))\n",
    "                break\n",
    "            elif result == 4:\n",
    "                break\n",
    "            else:\n",
    "                n = result\n",
    "                result = 0"
   ]
  },
  {
   "cell_type": "markdown",
   "id": "c0f4215a",
   "metadata": {},
   "source": [
    "Q5.\tWrite a Python program to determine whether the given number is a Harshad Number?"
   ]
  },
  {
   "cell_type": "code",
   "execution_count": 32,
   "id": "a3891fff",
   "metadata": {},
   "outputs": [
    {
     "name": "stdout",
     "output_type": "stream",
     "text": [
      "Enter a number: 171\n",
      "171 is a Harshad Number\n"
     ]
    }
   ],
   "source": [
    "n = int(input(\"Enter a number: \"))\n",
    "temp = n\n",
    "result = 0\n",
    "while n != 0:\n",
    "    r = n % 10\n",
    "    n //= 10\n",
    "    result += r\n",
    "    \n",
    "if temp % result == 0:\n",
    "    print(\"{} is a Harshad Number\".format(temp))\n",
    "else:\n",
    "    print(\"{} is not a Harshad Number\".format(temp))"
   ]
  },
  {
   "cell_type": "markdown",
   "id": "da4ad3e9",
   "metadata": {},
   "source": [
    "Q6.\tWrite a Python program to print all pronic numbers between 1 and 100?"
   ]
  },
  {
   "cell_type": "code",
   "execution_count": 33,
   "id": "43ebee70",
   "metadata": {},
   "outputs": [
    {
     "name": "stdout",
     "output_type": "stream",
     "text": [
      "1 is a Harshad Number\n",
      "2 is a Harshad Number\n",
      "3 is a Harshad Number\n",
      "4 is a Harshad Number\n",
      "5 is a Harshad Number\n",
      "6 is a Harshad Number\n",
      "7 is a Harshad Number\n",
      "8 is a Harshad Number\n",
      "9 is a Harshad Number\n",
      "10 is a Harshad Number\n",
      "12 is a Harshad Number\n",
      "18 is a Harshad Number\n",
      "20 is a Harshad Number\n",
      "21 is a Harshad Number\n",
      "24 is a Harshad Number\n",
      "27 is a Harshad Number\n",
      "30 is a Harshad Number\n",
      "36 is a Harshad Number\n",
      "40 is a Harshad Number\n",
      "42 is a Harshad Number\n",
      "45 is a Harshad Number\n",
      "48 is a Harshad Number\n",
      "50 is a Harshad Number\n",
      "54 is a Harshad Number\n",
      "60 is a Harshad Number\n",
      "63 is a Harshad Number\n",
      "70 is a Harshad Number\n",
      "72 is a Harshad Number\n",
      "80 is a Harshad Number\n",
      "81 is a Harshad Number\n",
      "84 is a Harshad Number\n",
      "90 is a Harshad Number\n",
      "100 is a Harshad Number\n"
     ]
    }
   ],
   "source": [
    "for n in range(1,101):\n",
    "    temp = n\n",
    "    result = 0\n",
    "    while n != 0:\n",
    "        r = n % 10\n",
    "        n //= 10\n",
    "        result += r\n",
    "    \n",
    "    if temp % result == 0:\n",
    "        print(\"{} is a Harshad Number\".format(temp))"
   ]
  }
 ],
 "metadata": {
  "kernelspec": {
   "display_name": "Python 3 (ipykernel)",
   "language": "python",
   "name": "python3"
  },
  "language_info": {
   "codemirror_mode": {
    "name": "ipython",
    "version": 3
   },
   "file_extension": ".py",
   "mimetype": "text/x-python",
   "name": "python",
   "nbconvert_exporter": "python",
   "pygments_lexer": "ipython3",
   "version": "3.9.12"
  }
 },
 "nbformat": 4,
 "nbformat_minor": 5
}
