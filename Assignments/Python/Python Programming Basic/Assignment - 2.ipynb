{
 "cells": [
  {
   "cell_type": "markdown",
   "id": "1ff96365",
   "metadata": {},
   "source": [
    "Q1.\tWrite a Python program to convert kilometers to miles?"
   ]
  },
  {
   "cell_type": "code",
   "execution_count": 4,
   "id": "a9f97a07",
   "metadata": {},
   "outputs": [
    {
     "name": "stdout",
     "output_type": "stream",
     "text": [
      "Please enter distance in kilometer : 18\n",
      "Given distance is 11.184678 miles\n"
     ]
    }
   ],
   "source": [
    "k = float(input(\"Please enter distance in kilometer : \"))\n",
    "print(\"Given distance is {} miles\".format(k * 0.621371))"
   ]
  },
  {
   "cell_type": "markdown",
   "id": "6c73ad65",
   "metadata": {},
   "source": [
    "Q2.\tWrite a Python program to convert Celsius to Fahrenheit?"
   ]
  },
  {
   "cell_type": "code",
   "execution_count": 5,
   "id": "3a6d3de2",
   "metadata": {},
   "outputs": [
    {
     "name": "stdout",
     "output_type": "stream",
     "text": [
      "Please enter temperature in Celsius : 27\n",
      "Entered temperature is 80.6 Fahrenheit\n"
     ]
    }
   ],
   "source": [
    "c = float(input(\"Please enter temperature in Celsius : \"))\n",
    "print(\"Entered temperature is {} Fahrenheit\".format((c * 1.8) + 32))"
   ]
  },
  {
   "cell_type": "markdown",
   "id": "ad6ac5fc",
   "metadata": {},
   "source": [
    "Q3.\tWrite a Python program to display calendar?"
   ]
  },
  {
   "cell_type": "code",
   "execution_count": 9,
   "id": "b865e8da",
   "metadata": {},
   "outputs": [
    {
     "name": "stdout",
     "output_type": "stream",
     "text": [
      "Enter year: 2022\n",
      "Enter month number (0 to 12): 9\n",
      "                                  2022\n",
      "\n",
      "      January                   February                   March\n",
      "Mo Tu We Th Fr Sa Su      Mo Tu We Th Fr Sa Su      Mo Tu We Th Fr Sa Su\n",
      "                1  2          1  2  3  4  5  6          1  2  3  4  5  6\n",
      " 3  4  5  6  7  8  9       7  8  9 10 11 12 13       7  8  9 10 11 12 13\n",
      "10 11 12 13 14 15 16      14 15 16 17 18 19 20      14 15 16 17 18 19 20\n",
      "17 18 19 20 21 22 23      21 22 23 24 25 26 27      21 22 23 24 25 26 27\n",
      "24 25 26 27 28 29 30      28                        28 29 30 31\n",
      "31\n",
      "\n",
      "       April                      May                       June\n",
      "Mo Tu We Th Fr Sa Su      Mo Tu We Th Fr Sa Su      Mo Tu We Th Fr Sa Su\n",
      "             1  2  3                         1             1  2  3  4  5\n",
      " 4  5  6  7  8  9 10       2  3  4  5  6  7  8       6  7  8  9 10 11 12\n",
      "11 12 13 14 15 16 17       9 10 11 12 13 14 15      13 14 15 16 17 18 19\n",
      "18 19 20 21 22 23 24      16 17 18 19 20 21 22      20 21 22 23 24 25 26\n",
      "25 26 27 28 29 30         23 24 25 26 27 28 29      27 28 29 30\n",
      "                          30 31\n",
      "\n",
      "        July                     August                  September\n",
      "Mo Tu We Th Fr Sa Su      Mo Tu We Th Fr Sa Su      Mo Tu We Th Fr Sa Su\n",
      "             1  2  3       1  2  3  4  5  6  7                1  2  3  4\n",
      " 4  5  6  7  8  9 10       8  9 10 11 12 13 14       5  6  7  8  9 10 11\n",
      "11 12 13 14 15 16 17      15 16 17 18 19 20 21      12 13 14 15 16 17 18\n",
      "18 19 20 21 22 23 24      22 23 24 25 26 27 28      19 20 21 22 23 24 25\n",
      "25 26 27 28 29 30 31      29 30 31                  26 27 28 29 30\n",
      "\n",
      "      October                   November                  December\n",
      "Mo Tu We Th Fr Sa Su      Mo Tu We Th Fr Sa Su      Mo Tu We Th Fr Sa Su\n",
      "                1  2          1  2  3  4  5  6                1  2  3  4\n",
      " 3  4  5  6  7  8  9       7  8  9 10 11 12 13       5  6  7  8  9 10 11\n",
      "10 11 12 13 14 15 16      14 15 16 17 18 19 20      12 13 14 15 16 17 18\n",
      "17 18 19 20 21 22 23      21 22 23 24 25 26 27      19 20 21 22 23 24 25\n",
      "24 25 26 27 28 29 30      28 29 30                  26 27 28 29 30 31\n",
      "31\n",
      "\n",
      "********************************************************************************\n",
      "   September 2022\n",
      "Mo Tu We Th Fr Sa Su\n",
      "          1  2  3  4\n",
      " 5  6  7  8  9 10 11\n",
      "12 13 14 15 16 17 18\n",
      "19 20 21 22 23 24 25\n",
      "26 27 28 29 30\n",
      "\n"
     ]
    }
   ],
   "source": [
    "import calendar\n",
    "\n",
    "y = int(input(\"Enter year: \"))\n",
    "m = int(input(\"Enter month number (0 to 12): \"))\n",
    "\n",
    "print(calendar.calendar(y))\n",
    "print(\"********************************************************************************\")\n",
    "print(calendar.month(y, m))"
   ]
  },
  {
   "cell_type": "markdown",
   "id": "b039a98d",
   "metadata": {},
   "source": [
    "Q4.\tWrite a Python program to solve quadratic equation?"
   ]
  },
  {
   "cell_type": "code",
   "execution_count": 21,
   "id": "b251fe48",
   "metadata": {},
   "outputs": [
    {
     "name": "stdout",
     "output_type": "stream",
     "text": [
      "Enter values of a, b and c according to quadratic equation 'ax**2 + bx + c = 0'\n",
      "a: 1\n",
      "b: 10\n",
      "c: -24\n",
      "Roots of equation are 2.0 and -12.0 \n"
     ]
    }
   ],
   "source": [
    "import cmath, math\n",
    "\n",
    "print(\"Enter values of a, b and c according to quadratic equation 'ax**2 + bx + c = 0'\")\n",
    "a = int(input(\"a: \"))\n",
    "b = int(input(\"b: \"))\n",
    "c = int(input(\"c: \"))\n",
    "if a == 0:\n",
    "    print(\"Value of 'a' can't be 0\")\n",
    "    break\n",
    "else:\n",
    "\n",
    "    d = (b ** 2) - (4 * a * c)\n",
    "    \n",
    "    if d < 0:\n",
    "        r1 = (-b + cmath.sqrt(d))/(2 * a )\n",
    "        r2 = (-b - cmath.sqrt(d))/(2 * a )\n",
    "        \n",
    "    elif d == 0:\n",
    "        r1 = (-b / (2 * a))\n",
    "        r2 = r1\n",
    "        \n",
    "    else:\n",
    "        r1 = (-b + math.sqrt(d))/(2 * a )\n",
    "        r2 = (-b - math.sqrt(d))/(2 * a )\n",
    "\n",
    "    print(\"Roots of equation are {} and {} \".format(r1, r2))"
   ]
  },
  {
   "cell_type": "markdown",
   "id": "219d4ae0",
   "metadata": {},
   "source": [
    "Q5.\tWrite a Python program to swap two variables without temp variable?"
   ]
  },
  {
   "cell_type": "code",
   "execution_count": 23,
   "id": "db29fd33",
   "metadata": {},
   "outputs": [
    {
     "name": "stdout",
     "output_type": "stream",
     "text": [
      "Number 1: 10\n",
      "Number 2: 5\n",
      "\n",
      "Before swap Number1: 10 and Number2: 5\n",
      "\n",
      "After swap Number1: 5 and Number2: 10\n"
     ]
    }
   ],
   "source": [
    "a =int(input(\"Number 1: \"))\n",
    "b =int(input(\"Number 2: \"))\n",
    "\n",
    "print(\"\\nBefore swap Number1: {} and Number2: {}\".format(a, b))\n",
    "\n",
    "a = a + b\n",
    "b = a - b\n",
    "a = a - b\n",
    "\n",
    "print(\"\\nAfter swap Number1: {} and Number2: {}\".format(a, b))"
   ]
  }
 ],
 "metadata": {
  "kernelspec": {
   "display_name": "Python 3 (ipykernel)",
   "language": "python",
   "name": "python3"
  },
  "language_info": {
   "codemirror_mode": {
    "name": "ipython",
    "version": 3
   },
   "file_extension": ".py",
   "mimetype": "text/x-python",
   "name": "python",
   "nbconvert_exporter": "python",
   "pygments_lexer": "ipython3",
   "version": "3.9.12"
  }
 },
 "nbformat": 4,
 "nbformat_minor": 5
}
