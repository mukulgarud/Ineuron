{
 "cells": [
  {
   "cell_type": "raw",
   "id": "ddb35782",
   "metadata": {},
   "source": [
    "Q1. What exactly is []?\n",
    "\n",
    "Ans:-\n",
    "It is a list. List is a sequence data type where we can store values of different data types. We denote it as [] for empty list."
   ]
  },
  {
   "cell_type": "raw",
   "id": "217e2681",
   "metadata": {},
   "source": [
    "Q2. In a list of values stored in a variable called spam, how would you assign the value 'hello' as the third value? (Assume [2, 4, 6, 8, 10] are in spam.)\n",
    "\n",
    "Ans:-\n",
    "List is mutable data type so we can change it's values. As we know index starts from 0 in list, if we have to change third value that means we have to change value at index 2."
   ]
  },
  {
   "cell_type": "code",
   "execution_count": 3,
   "id": "b056edc7",
   "metadata": {},
   "outputs": [
    {
     "data": {
      "text/plain": [
       "[2, 4, 6, 8, 10]"
      ]
     },
     "execution_count": 3,
     "metadata": {},
     "output_type": "execute_result"
    }
   ],
   "source": [
    "spam = [2, 4, 6, 8, 10]\n",
    "spam"
   ]
  },
  {
   "cell_type": "code",
   "execution_count": 4,
   "id": "cb4ed003",
   "metadata": {},
   "outputs": [
    {
     "data": {
      "text/plain": [
       "[2, 4, 'hello', 8, 10]"
      ]
     },
     "execution_count": 4,
     "metadata": {},
     "output_type": "execute_result"
    }
   ],
   "source": [
    "spam[2] = 'hello'\n",
    "spam"
   ]
  },
  {
   "cell_type": "raw",
   "id": "cbb8c26c",
   "metadata": {},
   "source": [
    "Let's pretend the spam includes the list ['a', 'b', 'c', 'd'] for the next three queries."
   ]
  },
  {
   "cell_type": "raw",
   "id": "fe732cf0",
   "metadata": {},
   "source": [
    "Q3. What is the value of spam[int(int('3' * 2) / 11)]?\n",
    "\n",
    "Ans:-\n",
    "Output of spam[int(int('3' * 2) / 11)] is 'd', because evaluation inside square brackets is 3."
   ]
  },
  {
   "cell_type": "code",
   "execution_count": 5,
   "id": "8d8d903a",
   "metadata": {},
   "outputs": [
    {
     "data": {
      "text/plain": [
       "['a', 'b', 'c', 'd']"
      ]
     },
     "execution_count": 5,
     "metadata": {},
     "output_type": "execute_result"
    }
   ],
   "source": [
    "spam = ['a', 'b', 'c', 'd']\n",
    "spam"
   ]
  },
  {
   "cell_type": "code",
   "execution_count": 6,
   "id": "ef8023ae",
   "metadata": {},
   "outputs": [
    {
     "data": {
      "text/plain": [
       "'d'"
      ]
     },
     "execution_count": 6,
     "metadata": {},
     "output_type": "execute_result"
    }
   ],
   "source": [
    "spam[int(int('3' * 2) / 11)]"
   ]
  },
  {
   "cell_type": "raw",
   "id": "9d59436b",
   "metadata": {},
   "source": [
    "Q4. What is the value of spam[-1]?\n",
    "\n",
    "Ans:-\n",
    "Output of spam[-1] is 'd', because -ve index means read list from backwards and -1 as an index means last element of the list."
   ]
  },
  {
   "cell_type": "code",
   "execution_count": 7,
   "id": "008c32e0",
   "metadata": {},
   "outputs": [
    {
     "data": {
      "text/plain": [
       "'d'"
      ]
     },
     "execution_count": 7,
     "metadata": {},
     "output_type": "execute_result"
    }
   ],
   "source": [
    "spam[-1]"
   ]
  },
  {
   "cell_type": "raw",
   "id": "49a53a34",
   "metadata": {},
   "source": [
    "Q5. What is the value of spam[:2]?\n",
    "\n",
    "Ans:-\n",
    "Output of spam[:2] is ['a', 'b']. This process is called as slicing of list. Suppose demo[a:b] where a is starting index and b is ending index.It returns values from index a to index b-1, value of index b is excluded. Whenever value of a is not given it takes 0 as staring point. Here it returens values of index 0 and 1."
   ]
  },
  {
   "cell_type": "code",
   "execution_count": 10,
   "id": "dc9980a4",
   "metadata": {},
   "outputs": [
    {
     "data": {
      "text/plain": [
       "['a', 'b']"
      ]
     },
     "execution_count": 10,
     "metadata": {},
     "output_type": "execute_result"
    }
   ],
   "source": [
    "spam[:2]"
   ]
  },
  {
   "cell_type": "raw",
   "id": "65892c98",
   "metadata": {},
   "source": [
    "Let's pretend bacon has the list [3.14, 'cat,' 11, 'cat,' True] for the next three questions."
   ]
  },
  {
   "cell_type": "raw",
   "id": "9101e30c",
   "metadata": {},
   "source": [
    "Q6. What is the value of bacon.index('cat')?\n",
    "\n",
    "Ans:-\n",
    "Output of bacon.index('cat') is 1, index method only display the first occurance of given value 'cat'."
   ]
  },
  {
   "cell_type": "code",
   "execution_count": 12,
   "id": "eca1f21f",
   "metadata": {},
   "outputs": [
    {
     "data": {
      "text/plain": [
       "[3.14, 'cat', 11, 'cat', True]"
      ]
     },
     "execution_count": 12,
     "metadata": {},
     "output_type": "execute_result"
    }
   ],
   "source": [
    "bacon = [3.14, 'cat', 11, 'cat', True]\n",
    "bacon"
   ]
  },
  {
   "cell_type": "code",
   "execution_count": 13,
   "id": "28b9232d",
   "metadata": {},
   "outputs": [
    {
     "data": {
      "text/plain": [
       "1"
      ]
     },
     "execution_count": 13,
     "metadata": {},
     "output_type": "execute_result"
    }
   ],
   "source": [
    "bacon.index('cat')"
   ]
  },
  {
   "cell_type": "raw",
   "id": "0130d15d",
   "metadata": {},
   "source": [
    "Q7. How does bacon.append(99) change the look of the list value in bacon?\n",
    "\n",
    "Ans:-\n",
    "bacon.append(99) simply appends int value 99 at the end of the list bacon."
   ]
  },
  {
   "cell_type": "code",
   "execution_count": 14,
   "id": "cfa79333",
   "metadata": {},
   "outputs": [
    {
     "data": {
      "text/plain": [
       "[3.14, 'cat', 11, 'cat', True, 99]"
      ]
     },
     "execution_count": 14,
     "metadata": {},
     "output_type": "execute_result"
    }
   ],
   "source": [
    "bacon.append(99)\n",
    "bacon"
   ]
  },
  {
   "cell_type": "raw",
   "id": "89db9cf4",
   "metadata": {},
   "source": [
    "Q8. How does bacon.remove('cat') change the look of the list in bacon?\n",
    "\n",
    "Ans:-\n",
    "bacon.remove('cat') simply removes fist occurance of value 'cat'."
   ]
  },
  {
   "cell_type": "code",
   "execution_count": 15,
   "id": "0b325e4f",
   "metadata": {},
   "outputs": [
    {
     "data": {
      "text/plain": [
       "[3.14, 11, 'cat', True, 99]"
      ]
     },
     "execution_count": 15,
     "metadata": {},
     "output_type": "execute_result"
    }
   ],
   "source": [
    "bacon.remove('cat')\n",
    "bacon"
   ]
  },
  {
   "cell_type": "raw",
   "id": "376a835e",
   "metadata": {},
   "source": [
    "Q9. What are the list concatenation and list replication operators?\n",
    "\n",
    "Ans:-\n",
    "We can use '+' operator for list concatenation and '*' operator fot list replication."
   ]
  },
  {
   "cell_type": "code",
   "execution_count": 18,
   "id": "dede3d9e",
   "metadata": {},
   "outputs": [
    {
     "name": "stdout",
     "output_type": "stream",
     "text": [
      "[10, 20, 30, 40]\n",
      "[10, 20, 10, 20]\n",
      "[30, 40, 30, 40, 30, 40, 30, 40, 30, 40]\n"
     ]
    }
   ],
   "source": [
    "a = [10, 20]\n",
    "b = [30, 40] \n",
    "print(a + b)     # list concatenation\n",
    "print(a * 2)     # list replication\n",
    "print(b * 5)     # list replication"
   ]
  },
  {
   "cell_type": "raw",
   "id": "045bfecc",
   "metadata": {},
   "source": [
    "Q10. What is difference between the list methods append() and insert()?\n",
    "\n",
    "Ans:-\n",
    "append(): in append method we only provide value to be appended in the list. It appends value to the end of the list.\n",
    "insert(): in insert method we provide index and value to be inserted in the list. It inserts value to the index specified in the method."
   ]
  },
  {
   "cell_type": "raw",
   "id": "3548d5f2",
   "metadata": {},
   "source": [
    "Q11. What are the two methods for removing items from a list?\n",
    "\n",
    "Ans:-\n",
    "pop(): It removes 1 value at a time from back of the list. We don't have to provide any value to the method.\n",
    "remove(): It removes the first occurance of the value provided to the method form the list.\n",
    "clear(): It simply removes all the litems from the list."
   ]
  },
  {
   "cell_type": "raw",
   "id": "3f9c9b87",
   "metadata": {},
   "source": [
    "Q12. Describe how list values and string values are identical.\n",
    "\n",
    "Ans:-\n",
    "Both lists and strings can be passed to len() function, have indexes and slicing, can be used in for loops, can be concatenated or replicated using '+' or '*' operator, and be used with the 'in' and 'not in' operators."
   ]
  },
  {
   "cell_type": "raw",
   "id": "d7ba1f18",
   "metadata": {},
   "source": [
    "Q13. What's the difference between tuples and lists?\n",
    "\n",
    "Ans:-\n",
    "Lists are Mutable, they can have values added, removed, or changed. Tuples are Immutable, the tuple values cannot be changed at all. But both can be Indexable and Slicable. Also, tuples are represented using parentheses (), while lists use the square brackets []."
   ]
  },
  {
   "cell_type": "raw",
   "id": "73f0a93e",
   "metadata": {},
   "source": [
    "Q14. How do you type a tuple value that only contains the integer 42?\n",
    "\n",
    "Ans:- \n",
    "(42,). The trailing comma is mandatory, otherwise it is considered as a int by python Interpreter."
   ]
  },
  {
   "cell_type": "code",
   "execution_count": 19,
   "id": "a597762a",
   "metadata": {},
   "outputs": [
    {
     "name": "stdout",
     "output_type": "stream",
     "text": [
      "<class 'int'>\n",
      "<class 'tuple'>\n"
     ]
    }
   ],
   "source": [
    "a=(42)\n",
    "b=(42,)\n",
    "print(type(a))\n",
    "print(type(b))"
   ]
  },
  {
   "cell_type": "raw",
   "id": "15096ab1",
   "metadata": {},
   "source": [
    "Q15. How do you get a list value's tuple form? How do you get a tuple value's list form?\n",
    "\n",
    "Ans:-\n",
    "By using tuple() and list() functions respectively to convert a list to tuple and tuple to list."
   ]
  },
  {
   "cell_type": "raw",
   "id": "03b45497",
   "metadata": {},
   "source": [
    "Q16. Variables that \"contain\" list values are not necessarily lists themselves. Instead, what do they contain?\n",
    "\n",
    "Ans:-\n",
    "They contain references to list values."
   ]
  },
  {
   "cell_type": "raw",
   "id": "2d3a59db",
   "metadata": {},
   "source": [
    "Q17. How do you distinguish between copy.copy() and copy.deepcopy()?\n",
    "\n",
    "Ans:-\n",
    "copy.copy() also called as shallow copy. A shallow copy constructs a new compound object and then inserts references into it to the objects found in the original. If you change copied object - you change the original object. copy.deepcopy() creates new object and does real copying of original object to new one. Changing new deepcopied object doesn't affect original object."
   ]
  }
 ],
 "metadata": {
  "kernelspec": {
   "display_name": "Python 3 (ipykernel)",
   "language": "python",
   "name": "python3"
  },
  "language_info": {
   "codemirror_mode": {
    "name": "ipython",
    "version": 3
   },
   "file_extension": ".py",
   "mimetype": "text/x-python",
   "name": "python",
   "nbconvert_exporter": "python",
   "pygments_lexer": "ipython3",
   "version": "3.9.12"
  }
 },
 "nbformat": 4,
 "nbformat_minor": 5
}
